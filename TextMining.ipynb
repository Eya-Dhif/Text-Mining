{
  "cells": [
    {
      "cell_type": "markdown",
      "metadata": {
        "id": "view-in-github",
        "colab_type": "text"
      },
      "source": [
        "<a href=\"https://colab.research.google.com/github/Eya-Dhif/Text-Mining/blob/main/TextMining.ipynb\" target=\"_parent\"><img src=\"https://colab.research.google.com/assets/colab-badge.svg\" alt=\"Open In Colab\"/></a>"
      ]
    },
    {
      "cell_type": "code",
      "execution_count": null,
      "id": "b55bc1a1",
      "metadata": {
        "id": "b55bc1a1"
      },
      "outputs": [],
      "source": [
        "import pandas as pd\n",
        "#cela suppose un élément json par ligne dans le fichier json\n",
        "df=pd.read_json(\"News_Category_Dataset_v3.json.zip\", lines=True)"
      ]
    },
    {
      "cell_type": "code",
      "execution_count": null,
      "id": "39310742",
      "metadata": {
        "id": "39310742",
        "outputId": "0fc9de4e-1297-432c-8d71-33bdc80a693a"
      },
      "outputs": [
        {
          "data": {
            "text/plain": [
              "link                         object\n",
              "headline                     object\n",
              "category                     object\n",
              "short_description            object\n",
              "authors                      object\n",
              "date                 datetime64[ns]\n",
              "dtype: object"
            ]
          },
          "execution_count": 5,
          "metadata": {},
          "output_type": "execute_result"
        }
      ],
      "source": [
        "df.dtypes\n"
      ]
    },
    {
      "cell_type": "code",
      "execution_count": null,
      "id": "65b7a0b6",
      "metadata": {
        "id": "65b7a0b6",
        "outputId": "2cb6e49f-16ae-48aa-9502-90252a51cc26"
      },
      "outputs": [
        {
          "data": {
            "text/plain": [
              "209527"
            ]
          },
          "execution_count": 6,
          "metadata": {},
          "output_type": "execute_result"
        }
      ],
      "source": [
        "#nombre de lignes (points de données)\n",
        "len(df)"
      ]
    },
    {
      "cell_type": "code",
      "execution_count": null,
      "id": "3349ebbd",
      "metadata": {
        "id": "3349ebbd",
        "outputId": "c2048417-4326-4f2a-b96e-ea036a664021"
      },
      "outputs": [
        {
          "data": {
            "text/html": [
              "<div>\n",
              "<style scoped>\n",
              "    .dataframe tbody tr th:only-of-type {\n",
              "        vertical-align: middle;\n",
              "    }\n",
              "\n",
              "    .dataframe tbody tr th {\n",
              "        vertical-align: top;\n",
              "    }\n",
              "\n",
              "    .dataframe thead th {\n",
              "        text-align: right;\n",
              "    }\n",
              "</style>\n",
              "<table border=\"1\" class=\"dataframe\">\n",
              "  <thead>\n",
              "    <tr style=\"text-align: right;\">\n",
              "      <th></th>\n",
              "      <th>link</th>\n",
              "      <th>headline</th>\n",
              "      <th>category</th>\n",
              "      <th>short_description</th>\n",
              "      <th>authors</th>\n",
              "      <th>date</th>\n",
              "    </tr>\n",
              "  </thead>\n",
              "  <tbody>\n",
              "    <tr>\n",
              "      <th>40007</th>\n",
              "      <td>https://www.huffingtonpost.com/entry/trump-bud...</td>\n",
              "      <td>Donald Trump's Budget Could Cost Money Where I...</td>\n",
              "      <td>POLITICS</td>\n",
              "      <td>Cuts to worker safety are a prime example. Nee...</td>\n",
              "      <td>Dave Jamieson</td>\n",
              "      <td>2017-03-21</td>\n",
              "    </tr>\n",
              "    <tr>\n",
              "      <th>98510</th>\n",
              "      <td>https://www.huffingtonpost.com/entry/is-a-deat...</td>\n",
              "      <td>Is a Death Sentence Really a Death Sentence?</td>\n",
              "      <td>POLITICS</td>\n",
              "      <td>As we struggle to delineate the upper limits o...</td>\n",
              "      <td>Amanda Glassman, ContributorScreenwriter</td>\n",
              "      <td>2015-05-28</td>\n",
              "    </tr>\n",
              "    <tr>\n",
              "      <th>195564</th>\n",
              "      <td>https://www.huffingtonpost.com/entry/casa-addi...</td>\n",
              "      <td>Addiction: America's Most Neglected Disease</td>\n",
              "      <td>WELLNESS</td>\n",
              "      <td>The National Center on Addiction and Substance...</td>\n",
              "      <td>Lloyd I. Sederer, MD, Contributor\\nChief Medic...</td>\n",
              "      <td>2012-06-26</td>\n",
              "    </tr>\n",
              "  </tbody>\n",
              "</table>\n",
              "</div>"
            ],
            "text/plain": [
              "                                                     link  \\\n",
              "40007   https://www.huffingtonpost.com/entry/trump-bud...   \n",
              "98510   https://www.huffingtonpost.com/entry/is-a-deat...   \n",
              "195564  https://www.huffingtonpost.com/entry/casa-addi...   \n",
              "\n",
              "                                                 headline  category  \\\n",
              "40007   Donald Trump's Budget Could Cost Money Where I...  POLITICS   \n",
              "98510        Is a Death Sentence Really a Death Sentence?  POLITICS   \n",
              "195564        Addiction: America's Most Neglected Disease  WELLNESS   \n",
              "\n",
              "                                        short_description  \\\n",
              "40007   Cuts to worker safety are a prime example. Nee...   \n",
              "98510   As we struggle to delineate the upper limits o...   \n",
              "195564  The National Center on Addiction and Substance...   \n",
              "\n",
              "                                                  authors       date  \n",
              "40007                                       Dave Jamieson 2017-03-21  \n",
              "98510            Amanda Glassman, ContributorScreenwriter 2015-05-28  \n",
              "195564  Lloyd I. Sederer, MD, Contributor\\nChief Medic... 2012-06-26  "
            ]
          },
          "execution_count": 7,
          "metadata": {},
          "output_type": "execute_result"
        }
      ],
      "source": [
        "# Prenez un échantillon de 3 pour afficher les données\n",
        "df.sample(3)\n"
      ]
    },
    {
      "cell_type": "code",
      "execution_count": null,
      "id": "7646c6e5",
      "metadata": {
        "id": "7646c6e5",
        "outputId": "4795b241-28ba-4d02-99b7-9e4e8884508f"
      },
      "outputs": [
        {
          "data": {
            "text/plain": [
              "<AxesSubplot:>"
            ]
          },
          "execution_count": 8,
          "metadata": {},
          "output_type": "execute_result"
        },
        {
          "data": {
            "image/png": "[encoded data removed]",
            "text/plain": [
              "<Figure size 1200x600 with 1 Axes>"
            ]
          },
          "metadata": {},
          "output_type": "display_data"
        }
      ],
      "source": [
        "df.date.hist(figsize=(12,6),color='#86bf91',)"
      ]
    },
    {
      "cell_type": "code",
      "execution_count": null,
      "id": "b9abc7c7",
      "metadata": {
        "id": "b9abc7c7",
        "outputId": "765682a6-b27e-4b11-e6d7-39837b9b0921"
      },
      "outputs": [
        {
          "ename": "SyntaxError",
          "evalue": "invalid syntax (701545154.py, line 1)",
          "output_type": "error",
          "traceback": [
            "\u001b[1;36m  File \u001b[1;32m\"C:\\Users\\HP\\AppData\\Local\\Temp\\ipykernel_2116\\701545154.py\"\u001b[1;36m, line \u001b[1;32m1\u001b[0m\n\u001b[1;33m    <matplotlib.axes._subplots.AxesSubplot at 0x1a695a80508>\u001b[0m\n\u001b[1;37m    ^\u001b[0m\n\u001b[1;31mSyntaxError\u001b[0m\u001b[1;31m:\u001b[0m invalid syntax\n"
          ]
        }
      ],
      "source": [
        "<matplotlib.axes._subplots.AxesSubplot at 0x1a695a80508>"
      ]
    },
    {
      "cell_type": "code",
      "execution_count": null,
      "id": "700b1b8b",
      "metadata": {
        "id": "700b1b8b"
      },
      "outputs": [],
      "source": [
        "<matplotlib.axes._subplots.AxesSubplot at 0x1a695a80508>"
      ]
    },
    {
      "cell_type": "code",
      "execution_count": null,
      "id": "a3cf25ac",
      "metadata": {
        "id": "a3cf25ac",
        "outputId": "15d0cea8-d9c2-4441-c126-4b1760a2c325"
      },
      "outputs": [
        {
          "data": {
            "text/plain": [
              "42"
            ]
          },
          "execution_count": 10,
          "metadata": {},
          "output_type": "execute_result"
        }
      ],
      "source": [
        "len(set(df['category'].values))"
      ]
    },
    {
      "cell_type": "code",
      "execution_count": null,
      "id": "026f912a",
      "metadata": {
        "id": "026f912a",
        "outputId": "03b149f4-8ecd-4a42-caef-4e77624f4d79"
      },
      "outputs": [
        {
          "data": {
            "text/plain": [
              "<AxesSubplot:>"
            ]
          },
          "execution_count": 11,
          "metadata": {},
          "output_type": "execute_result"
        },
        {
          "data": {
            "image/png": "[encoded data removed]",
            "text/plain": [
              "<Figure size 640x480 with 1 Axes>"
            ]
          },
          "metadata": {},
          "output_type": "display_data"
        }
      ],
      "source": [
        "import matplotlib\n",
        "import numpy as np\n",
        "cmap = matplotlib.cm.get_cmap('Spectral')\n",
        "rgba = [cmap(i) for i in np.linspace(0,1,len(set(df['category'].values)))]\n",
        "df['category'].value_counts().plot(kind='bar',color =rgba)"
      ]
    },
    {
      "cell_type": "code",
      "execution_count": null,
      "id": "1148ad56",
      "metadata": {
        "id": "1148ad56",
        "outputId": "bf93a85d-a742-4afa-e310-af764f8e5736"
      },
      "outputs": [
        {
          "ename": "SyntaxError",
          "evalue": "invalid syntax (4152538568.py, line 1)",
          "output_type": "error",
          "traceback": [
            "\u001b[1;36m  File \u001b[1;32m\"C:\\Users\\HP\\AppData\\Local\\Temp\\ipykernel_2116\\4152538568.py\"\u001b[1;36m, line \u001b[1;32m1\u001b[0m\n\u001b[1;33m    <matplotlib.axes._subplots.AxesSubplot at 0x1a6942753c8>\u001b[0m\n\u001b[1;37m    ^\u001b[0m\n\u001b[1;31mSyntaxError\u001b[0m\u001b[1;31m:\u001b[0m invalid syntax\n"
          ]
        }
      ],
      "source": [
        "<matplotlib.axes._subplots.AxesSubplot at 0x1a6942753c8>"
      ]
    },
    {
      "cell_type": "code",
      "execution_count": null,
      "id": "ac0ed437",
      "metadata": {
        "id": "ac0ed437",
        "outputId": "ec0a5e62-b6b6-4f70-f898-83858680a735"
      },
      "outputs": [
        {
          "name": "stdout",
          "output_type": "stream",
          "text": [
            "(8962, 6)\n"
          ]
        },
        {
          "data": {
            "text/plain": [
              "<AxesSubplot:>"
            ]
          },
          "execution_count": 13,
          "metadata": {},
          "output_type": "execute_result"
        },
        {
          "data": {
            "image/png": "[encoded data removed]",
            "text/plain": [
              "<Figure size 640x480 with 1 Axes>"
            ]
          },
          "metadata": {},
          "output_type": "display_data"
        }
      ],
      "source": [
        "df_orig=df.copy()\n",
        "df = df_orig[df_orig['category'].isin(['CRIME','COMEDY'])]\n",
        "print(df.shape)\n",
        "df.head()\n",
        "df = df.loc[:, ['headline','category']]\n",
        "df['category'].value_counts().plot(kind='bar',color =['r','b'])"
      ]
    },
    {
      "cell_type": "code",
      "execution_count": null,
      "id": "0de87463",
      "metadata": {
        "id": "0de87463",
        "outputId": "4b067208-57f6-4217-d1fc-7d481634f4f8"
      },
      "outputs": [
        {
          "data": {
            "text/html": [
              "<div>\n",
              "<style scoped>\n",
              "    .dataframe tbody tr th:only-of-type {\n",
              "        vertical-align: middle;\n",
              "    }\n",
              "\n",
              "    .dataframe tbody tr th {\n",
              "        vertical-align: top;\n",
              "    }\n",
              "\n",
              "    .dataframe thead th {\n",
              "        text-align: right;\n",
              "    }\n",
              "</style>\n",
              "<table border=\"1\" class=\"dataframe\">\n",
              "  <thead>\n",
              "    <tr style=\"text-align: right;\">\n",
              "      <th></th>\n",
              "      <th>am</th>\n",
              "      <th>boy</th>\n",
              "      <th>hello</th>\n",
              "      <th>is</th>\n",
              "      <th>jill</th>\n",
              "      <th>my</th>\n",
              "      <th>name</th>\n",
              "      <th>student</th>\n",
              "    </tr>\n",
              "  </thead>\n",
              "  <tbody>\n",
              "    <tr>\n",
              "      <th>0</th>\n",
              "      <td>1</td>\n",
              "      <td>1</td>\n",
              "      <td>1</td>\n",
              "      <td>0</td>\n",
              "      <td>0</td>\n",
              "      <td>0</td>\n",
              "      <td>0</td>\n",
              "      <td>0</td>\n",
              "    </tr>\n",
              "    <tr>\n",
              "      <th>1</th>\n",
              "      <td>1</td>\n",
              "      <td>0</td>\n",
              "      <td>1</td>\n",
              "      <td>0</td>\n",
              "      <td>0</td>\n",
              "      <td>0</td>\n",
              "      <td>0</td>\n",
              "      <td>1</td>\n",
              "    </tr>\n",
              "    <tr>\n",
              "      <th>2</th>\n",
              "      <td>0</td>\n",
              "      <td>0</td>\n",
              "      <td>0</td>\n",
              "      <td>1</td>\n",
              "      <td>1</td>\n",
              "      <td>1</td>\n",
              "      <td>1</td>\n",
              "      <td>0</td>\n",
              "    </tr>\n",
              "  </tbody>\n",
              "</table>\n",
              "</div>"
            ],
            "text/plain": [
              "   am  boy  hello  is  jill  my  name  student\n",
              "0   1    1      1   0     0   0     0        0\n",
              "1   1    0      1   0     0   0     0        1\n",
              "2   0    0      0   1     1   1     1        0"
            ]
          },
          "execution_count": 14,
          "metadata": {},
          "output_type": "execute_result"
        }
      ],
      "source": [
        "from sklearn.feature_extraction.text import CountVectorizer\n",
        "sample_doc = [\"Hello I am a boy\", \"Hello I am a student\", \"My name is Jill\"]\n",
        "cv=CountVectorizer(max_df=0.85)\n",
        "word_count_vector=cv.fit_transform(sample_doc)\n",
        "word_count_vector_arr = word_count_vector.toarray()\n",
        "pd.DataFrame(word_count_vector_arr,columns=sorted(cv.vocabulary_, key=cv.vocabulary_.get))"
      ]
    },
    {
      "cell_type": "code",
      "execution_count": null,
      "id": "c7899d36",
      "metadata": {
        "id": "c7899d36",
        "outputId": "72698d2f-d6cd-49b5-d451-c1005784f9ae"
      },
      "outputs": [
        {
          "data": {
            "text/html": [
              "<div>\n",
              "<style scoped>\n",
              "    .dataframe tbody tr th:only-of-type {\n",
              "        vertical-align: middle;\n",
              "    }\n",
              "\n",
              "    .dataframe tbody tr th {\n",
              "        vertical-align: top;\n",
              "    }\n",
              "\n",
              "    .dataframe thead th {\n",
              "        text-align: right;\n",
              "    }\n",
              "</style>\n",
              "<table border=\"1\" class=\"dataframe\">\n",
              "  <thead>\n",
              "    <tr style=\"text-align: right;\">\n",
              "      <th></th>\n",
              "      <th>hello</th>\n",
              "      <th>am</th>\n",
              "      <th>boy</th>\n",
              "      <th>student</th>\n",
              "      <th>my</th>\n",
              "      <th>name</th>\n",
              "      <th>is</th>\n",
              "      <th>jill</th>\n",
              "    </tr>\n",
              "  </thead>\n",
              "  <tbody>\n",
              "    <tr>\n",
              "      <th>0</th>\n",
              "      <td>1</td>\n",
              "      <td>1</td>\n",
              "      <td>1</td>\n",
              "      <td>0</td>\n",
              "      <td>0</td>\n",
              "      <td>0</td>\n",
              "      <td>0</td>\n",
              "      <td>0</td>\n",
              "    </tr>\n",
              "    <tr>\n",
              "      <th>1</th>\n",
              "      <td>1</td>\n",
              "      <td>0</td>\n",
              "      <td>1</td>\n",
              "      <td>0</td>\n",
              "      <td>0</td>\n",
              "      <td>0</td>\n",
              "      <td>0</td>\n",
              "      <td>1</td>\n",
              "    </tr>\n",
              "    <tr>\n",
              "      <th>2</th>\n",
              "      <td>0</td>\n",
              "      <td>0</td>\n",
              "      <td>0</td>\n",
              "      <td>1</td>\n",
              "      <td>1</td>\n",
              "      <td>1</td>\n",
              "      <td>1</td>\n",
              "      <td>0</td>\n",
              "    </tr>\n",
              "  </tbody>\n",
              "</table>\n",
              "</div>"
            ],
            "text/plain": [
              "   hello  am  boy  student  my  name  is  jill\n",
              "0      1   1    1        0   0     0   0     0\n",
              "1      1   0    1        0   0     0   0     1\n",
              "2      0   0    0        1   1     1   1     0"
            ]
          },
          "execution_count": 18,
          "metadata": {},
          "output_type": "execute_result"
        }
      ],
      "source": [
        "pd.DataFrame(word_count_vector_arr,columns=cv.vocabulary_)"
      ]
    },
    {
      "cell_type": "code",
      "execution_count": null,
      "id": "c28a0239",
      "metadata": {
        "id": "c28a0239",
        "outputId": "2f22c3db-e92c-4b11-e382-b534069bb7e4"
      },
      "outputs": [
        {
          "data": {
            "text/plain": [
              "{'hello': 2,\n",
              " 'am': 0,\n",
              " 'boy': 1,\n",
              " 'student': 7,\n",
              " 'my': 5,\n",
              " 'name': 6,\n",
              " 'is': 3,\n",
              " 'jill': 4}"
            ]
          },
          "execution_count": 19,
          "metadata": {},
          "output_type": "execute_result"
        }
      ],
      "source": [
        "cv.vocabulary_"
      ]
    },
    {
      "cell_type": "code",
      "execution_count": null,
      "id": "bea25766",
      "metadata": {
        "id": "bea25766",
        "outputId": "a73a851a-ad71-43ec-f805-4e2be720c089"
      },
      "outputs": [
        {
          "data": {
            "text/plain": [
              "['23',\n",
              " 'of',\n",
              " 'the',\n",
              " 'funniest',\n",
              " 'tweets',\n",
              " 'about',\n",
              " 'cats',\n",
              " 'and',\n",
              " 'dogs',\n",
              " 'this']"
            ]
          },
          "execution_count": 20,
          "metadata": {},
          "output_type": "execute_result"
        }
      ],
      "source": [
        "from sklearn.feature_extraction.text import CountVectorizer\n",
        "docs=df['headline'].tolist()\n",
        "# créer un vocabulaire de mots,\n",
        "# ignorer les mots qui apparaissent dans 85% des documents,\n",
        "# éliminer les mots vides\n",
        "cv=CountVectorizer(max_df=0.95)\n",
        "word_count_vector=cv.fit_transform(docs)\n",
        "list(cv.vocabulary_.keys())[:10]"
      ]
    },
    {
      "cell_type": "code",
      "execution_count": null,
      "id": "5971949c",
      "metadata": {
        "id": "5971949c"
      },
      "outputs": [],
      "source": [
        "from sklearn.feature_extraction.text import TfidfTransformer\n",
        "from sklearn.model_selection import train_test_split\n",
        "from sklearn.linear_model import LogisticRegression\n",
        "from sklearn.metrics import confusion_matrix\n",
        "df['category_is_crime'] = df['category']=='CRIME'\n",
        "X_train, X_test, y_train, y_test = train_test_split(word_count_vector, df['category_is_crime'], test_size=0.2, random_state=42)"
      ]
    },
    {
      "cell_type": "code",
      "execution_count": null,
      "id": "c8068c0b",
      "metadata": {
        "id": "c8068c0b",
        "outputId": "205042c7-8aa6-459e-a254-21a58c7abd48"
      },
      "outputs": [
        {
          "name": "stdout",
          "output_type": "stream",
          "text": [
            "[[1056   22]\n",
            " [  71  644]]\n",
            "Accuracy of a simple linear model with CountVectorizer is .... 94.81%\n"
          ]
        }
      ],
      "source": [
        "model1 = LogisticRegression()\n",
        "model1.fit(X_train, y_train)\n",
        "y_pred = model1.predict(X_test)\n",
        "cm=confusion_matrix(y_test, y_pred)\n",
        "print(cm)\n",
        "acc=(cm[0,0]+cm[1,1])/sum(sum(cm))\n",
        "print('Accuracy of a simple linear model with CountVectorizer is .... {:.2f}%'.format(acc*100))"
      ]
    },
    {
      "cell_type": "code",
      "execution_count": null,
      "id": "5d0207fa",
      "metadata": {
        "id": "5d0207fa",
        "outputId": "352ef4cc-7690-47c4-b988-cd71d20b9b06"
      },
      "outputs": [
        {
          "name": "stdout",
          "output_type": "stream",
          "text": [
            "[[1058   20]\n",
            " [  85  630]]\n",
            "Accuracy of a simple linear model with TFIDF is .... 94.14%\n"
          ]
        }
      ],
      "source": [
        "tfidf_transformer=TfidfTransformer(smooth_idf=True,use_idf=True)\n",
        "tfidf_x_train = tfidf_transformer.fit_transform(X_train)\n",
        "model1 = LogisticRegression()\n",
        "model1.fit(tfidf_x_train, y_train)\n",
        "tfidf_x_test = tfidf_transformer.transform(X_test)\n",
        "y_pred = model1.predict(tfidf_x_test)\n",
        "cm=confusion_matrix(y_test, y_pred)\n",
        "print(cm)\n",
        "acc=(cm[0,0]+cm[1,1])/sum(sum(cm))\n",
        "print('Accuracy of a simple linear model with TFIDF is .... {:.2f}%'.format(acc*100))"
      ]
    },
    {
      "cell_type": "code",
      "execution_count": null,
      "id": "d7d3bfd3",
      "metadata": {
        "id": "d7d3bfd3"
      },
      "outputs": [],
      "source": [
        "## Extraction de mots clés importants à l'aide de tfidf\n",
        "print(df.iloc[1].headline)\n",
        "vector = cv.transform([df.iloc[1].headline])\n",
        "tfidf_vector = tfidf_transformer.transform(vector)\n",
        "coo_matrix = tfidf_vector.tocoo()\n",
        "tuples = zip(coo_matrix.col, coo_matrix.data)\n",
        "sorted_tuple = sorted(tuples, key=lambda x: (x[1], x[0]),reverse=True)\n",
        "[(cv.get_feature_names()[i[0]],i[1]) for i in sorted_tuple]"
      ]
    },
    {
      "cell_type": "code",
      "execution_count": null,
      "id": "09249091",
      "metadata": {
        "id": "09249091",
        "outputId": "c3070da6-1c8e-4985-e239-61d4575d8a1e"
      },
      "outputs": [
        {
          "name": "stdout",
          "output_type": "stream",
          "text": [
            "Albuquerque Police Tell Muslim Community To Be 'Vigilant' Amid Series Of Murders\n"
          ]
        },
        {
          "data": {
            "text/plain": [
              "[('vigilant', 0.3992356921271654),\n",
              " ('albuquerque', 0.3594060425271903),\n",
              " ('community', 0.3514808246143428),\n",
              " ('series', 0.32927607573548756),\n",
              " ('murders', 0.32927607573548756),\n",
              " ('amid', 0.3251330991311599),\n",
              " ('tell', 0.29307088740266046),\n",
              " ('muslim', 0.28009588860733536),\n",
              " ('be', 0.20902873832454155),\n",
              " ('police', 0.16991576773346884),\n",
              " ('of', 0.12006301847188751),\n",
              " ('to', 0.11840028111727706)]"
            ]
          },
          "execution_count": 35,
          "metadata": {},
          "output_type": "execute_result"
        }
      ],
      "source": [
        "## Extraction de mots clés importants à l'aide de tfidf\n",
        "print(df.iloc[5].headline)\n",
        "vector = cv.transform([df.iloc[5].headline])\n",
        "tfidf_vector = tfidf_transformer.transform(vector)\n",
        "coo_matrix = tfidf_vector.tocoo()\n",
        "tuples = zip(coo_matrix.col, coo_matrix.data)\n",
        "sorted_tuple = sorted(tuples, key=lambda x: (x[1], x[0]),reverse=True)\n",
        "[(cv.get_feature_names()[i[0]],i[1]) for i in sorted_tuple]"
      ]
    },
    {
      "cell_type": "code",
      "execution_count": null,
      "id": "f1724249",
      "metadata": {
        "id": "f1724249",
        "outputId": "aa4fca0f-6ef7-4b38-ad71-db0b39cc63f4"
      },
      "outputs": [
        {
          "name": "stdout",
          "output_type": "stream",
          "text": [
            "23 Of The Funniest Tweets About Cats And Dogs This Week (Sept. 17-23)\n"
          ]
        }
      ],
      "source": [
        "comedy_1 = df[~df['category_is_crime']].iloc[0].headline\n",
        "print(comedy_1)"
      ]
    },
    {
      "cell_type": "code",
      "execution_count": null,
      "id": "91273506",
      "metadata": {
        "id": "91273506",
        "outputId": "24c0b153-a2dc-4375-f2dd-b6bb77d5ce03"
      },
      "outputs": [
        {
          "data": {
            "text/plain": [
              "[('23', 0.6262531841479153),\n",
              " ('sept', 0.39662365860152876),\n",
              " ('17', 0.2725071724226913),\n",
              " ('cats', 0.2527324680055349),\n",
              " ('dogs', 0.24035305813916352),\n",
              " ('funniest', 0.23874669988443742),\n",
              " ('tweets', 0.23155726859084944),\n",
              " ('week', 0.204388624081469),\n",
              " ('about', 0.1784401518622229),\n",
              " ('this', 0.16881929825929912),\n",
              " ('and', 0.1385770035185798),\n",
              " ('of', 0.11090741110727972),\n",
              " ('the', 0.10175864984533016)]"
            ]
          },
          "execution_count": 27,
          "metadata": {},
          "output_type": "execute_result"
        }
      ],
      "source": [
        "## Extraction de mots clés importants à l'aide de tfidf\n",
        "vector = cv.transform([comedy_1])\n",
        "tfidf_vector = tfidf_transformer.transform(vector)\n",
        "coo_matrix = tfidf_vector.tocoo()\n",
        "tuples = zip(coo_matrix.col, coo_matrix.data)\n",
        "sorted_tuple = sorted(tuples, key=lambda x: (x[1], x[0]),reverse=True)\n",
        "[(cv.get_feature_names()[i[0]],i[1]) for i in sorted_tuple]"
      ]
    },
    {
      "cell_type": "code",
      "execution_count": null,
      "id": "34501262",
      "metadata": {
        "id": "34501262",
        "outputId": "1ddf0eb7-228e-4eee-d9ae-df3afcaaaee3"
      },
      "outputs": [
        {
          "name": "stdout",
          "output_type": "stream",
          "text": [
            "<!DOCTYPE html>\n",
            "\n",
            "<html class=\"no_js\" id=\"facebook\" lang=\"fr\">\n",
            "<head><meta charset=\"utf-8\"/><meta content=\"default\" id=\"meta_referrer\" name=\"referrer\"/><script nonce=\"4Dxwn4rZ\">function envFlush(a){function b(b){for(var c in a)b[c]=a[c]}window.requireLazy?window.requireLazy([\"Env\"],b):(window.Env=window.Env||{},b(window.Env))}envFlush({\"useTrustedTypes\":false,\"isTrustedTypesReportOnly\":false,\"ajaxpipe_token\":\"AXiKFSjSh9we5dN279E\",\"gk_instrument_object_url\":true,\"stack_trace_limit\":30,\"timesliceBufferSize\":5000,\"show_invariant_decoder\":false,\"compat_iframe_token\":\"AQ6586MdTpu4tdWXT8I\",\"isCQuick\":false});</script><script nonce=\"4Dxwn4rZ\">(function(a){function b(b){if(!window.openDatabase)return;b.I_AM_INCOGNITO_AND_I_REALLY_NEED_WEBSQL=function(a,b,c,d){return window.openDatabase(a,b,c,d)};window.openDatabase=function(){throw new Error()}}b(a)})(this);</script><style nonce=\"4Dxwn4rZ\"></style><script nonce=\"4Dxwn4rZ\">__DEV__=0;</script><noscript><meta content=\"0; URL=/?_fb_noscript=1\" http-equiv=\"refresh\"/></noscript><link crossorigin=\"use-credentials\" href=\"/data/manifest/\" id=\"MANIFEST_LINK\" rel=\"manifest\"/><title id=\"pageTitle\">Facebook - Connexion ou inscription</title><meta content=\"Facebook\" property=\"og:site_name\"/><meta content=\"https://www.facebook.com/\" property=\"og:url\"/><meta content=\"https://www.facebook.com/images/fb_icon_325x325.png\" property=\"og:image\"/><meta content=\"fr_FR\" property=\"og:locale\"/><meta content=\"www\" property=\"og:locale:alternate\"/><meta content=\"es_LA\" property=\"og:locale:alternate\"/><meta content=\"es_ES\" property=\"og:locale:alternate\"/><meta content=\"it_IT\" property=\"og:locale:alternate\"/><meta content=\"id_ID\" property=\"og:locale:alternate\"/><meta content=\"th_TH\" property=\"og:locale:alternate\"/><meta content=\"vi_VN\" property=\"og:locale:alternate\"/><meta content=\"ko_KR\" property=\"og:locale:alternate\"/><meta content=\"ja_JP\" property=\"og:locale:alternate\"/><link href=\"https://m.facebook.com/\" media=\"only screen and (max-width: 640px)\" rel=\"alternate\"/><link href=\"https://m.facebook.com/\" media=\"handheld\" rel=\"alternate\"/><meta content=\"Connectez-vous à Facebook pour commencer à partager et communiquer avec vos amis, votre famille et les personnes que vous connaissez.\" name=\"description\"/><link href=\"https://www.facebook.com/\" rel=\"canonical\"/><link href=\"https://static.xx.fbcdn.net/rsrc.php/yv/r/B8BxsscfVBr.ico\" rel=\"shortcut icon\"/><link data-bootloader-hash=\"/uaktyf\" href=\"https://static.xx.fbcdn.net/rsrc.php/v3/y4/l/0,cross/ZtwO7u3tI0A.css?_nc_x=Ij3Wp8lg5Kz\" rel=\"stylesheet\" type=\"text/css\"/>\n",
            "<link data-bootloader-hash=\"vPyRXjL\" href=\"https://static.xx.fbcdn.net/rsrc.php/v3/ys/l/0,cross/xTQXUOjrk9G.css?_nc_x=Ij3Wp8lg5Kz\" rel=\"stylesheet\" type=\"text/css\"/>\n",
            "<link data-bootloader-hash=\"Pud6B2Z\" href=\"https://static.xx.fbcdn.net/rsrc.php/v3/yV/l/0,cross/KxGJ10xTR_J.css?_nc_x=Ij3Wp8lg5Kz\" rel=\"stylesheet\" type=\"text/css\"/>\n",
            "<link data-bootloader-hash=\"I4hwzeu\" href=\"https://static.xx.fbcdn.net/rsrc.php/v3/yc/l/0,cross/6mgTOVHZSZs.css?_nc_x=Ij3Wp8lg5Kz\" rel=\"stylesheet\" type=\"text/css\"/>\n",
            "<link data-bootloader-hash=\"07IiWB/\" href=\"https://static.xx.fbcdn.net/rsrc.php/v3/y9/l/0,cross/OM_w2erf5Sp.css?_nc_x=Ij3Wp8lg5Kz\" rel=\"stylesheet\" type=\"text/css\"/>\n",
            "<link data-bootloader-hash=\"Yo2UzOh\" href=\"https://static.xx.fbcdn.net/rsrc.php/v3/yr/l/0,cross/u4xvA0Tw-4L.css?_nc_x=Ij3Wp8lg5Kz\" rel=\"stylesheet\" type=\"text/css\"/>\n",
            "<script data-bootloader-hash=\"83rVByl\" nonce=\"4Dxwn4rZ\" src=\"https://static.xx.fbcdn.net/rsrc.php/v3/yM/r/q1MbykZwhe2.js?_nc_x=Ij3Wp8lg5Kz\"></script>\n",
            "<script nonce=\"4Dxwn4rZ\">requireLazy([\"HasteSupportData\"],function(m){m.handle({\"clpData\":{\"1814852\":{\"r\":1},\"1838142\":{\"r\":1,\"s\":1},\"1949898\":{\"r\":1},\"1848815\":{\"r\":10000,\"s\":1},\"1744178\":{\"r\":1,\"s\":1}},\"gkxData\":{\"676837\":{\"result\":false,\"hash\":\"AT4N8wBZA8ctCdHwif0\"},\"708253\":{\"result\":false,\"hash\":\"AT5n4hBL3YTMnQWts08\"},\"996940\":{\"result\":false,\"hash\":\"AT7opYuEGy3sjG1aSkU\"},\"1224637\":{\"result\":false,\"hash\":\"AT7JRluWxuwDm3XzyxI\"},\"1263340\":{\"result\":false,\"hash\":\"AT5bwizWgDaFQudmKgI\"},\"676920\":{\"result\":true,\"hash\":\"AT497IX4gOFG8gZeSsA\"},\"1073500\":{\"result\":false,\"hash\":\"AT7aJmfnqWyioxOOpaA\"},\"1167394\":{\"result\":false,\"hash\":\"AT7BpN-tlUPwbIIF26I\"},\"3579\":{\"result\":true,\"hash\":\"AT4GLroqi1faSYwd8X0\"},\"4435\":{\"result\":false,\"hash\":\"AT7J_frtMJbbiuSskCw\"},\"1857581\":{\"result\":false,\"hash\":\"AT5yTxGMp6le0PAtN_A\"},\"2772\":{\"result\":false,\"hash\":\"AT5Eu244WIce7iwqVNY\"},\"3752\":{\"result\":false,\"hash\":\"AT6eS5UTkkMp_xbPj_E\"},\"3831\":{\"result\":false,\"hash\":\"AT4W23lQ0XxAZniM-iM\"},\"4075\":{\"result\":false,\"hash\":\"AT4_ZQi0sTjSt-Rxw58\"},\"8126\":{\"result\":false,\"hash\":\"AT4U7qG06p9sF6u8aKI\"},\"676838\":{\"result\":false,\"hash\":\"AT6nN1ehT9yq-2q6INA\"},\"1217157\":{\"result\":false,\"hash\":\"AT6B7YmllOsArnK6Q8s\"},\"1554827\":{\"result\":false,\"hash\":\"AT7zueGLhGo0cT5xAcU\"},\"1738486\":{\"result\":false,\"hash\":\"AT4cX37oQco6DwhUwhs\"}},\"qplData\":{\"7758\":{\"r\":1}}})});requireLazy([\"TimeSliceImpl\",\"ServerJS\"],function(TimeSlice,ServerJS){(new ServerJS()).handle({\"define\":[[\"URLFragmentPreludeConfig\",[],{\"hashtagRedirect\":true,\"fragBlacklist\":[\"nonce\",\"access_token\",\"oauth_token\",\"xs\",\"checkpoint_data\",\"code\"]},137],[\"CometPersistQueryParams\",[],{\"relative\":{},\"domain\":{}},6231],[\"CookieDomain\",[],{\"domain\":\"facebook.com\"},6421],[\"CurrentAdAccountInitialData\",[],{\"AD_ACCOUNT_ID\":null},6828],[\"BootloaderConfig\",[],{\"deferBootloads\":false,\"jsRetries\":[200,500],\"jsRetryAbortNum\":2,\"jsRetryAbortTime\":5,\"silentDups\":false,\"hypStep4\":false,\"phdOn\":false,\"btCutoffIndex\":2336,\"translationRetries\":[200,500],\"translationRetryAbortNum\":3,\"translationRetryAbortTime\":50},329],[\"CSSLoaderConfig\",[],{\"timeout\":5000,\"modulePrefix\":\"BLCSS:\"},619],[\"CookieCoreConfig\",[],{\"c_user\":{},\"cppo\":{\"t\":86400},\"dpr\":{\"t\":604800},\"fbl_ci\":{\"t\":31536000},\"fbl_cs\":{\"t\":31536000},\"fbl_st\":{\"t\":31536000},\"i_user\":{},\"locale\":{\"t\":604800},\"m_ls\":{\"t\":158284800},\"m_pixel_ratio\":{\"t\":604800},\"noscript\":{},\"presence\":{\"t\":2592000},\"sfau\":{},\"usida\":{},\"vpd\":{\"t\":5184000},\"wd\":{\"t\":604800},\"x-referer\":{},\"x-src\":{\"t\":1}},2104],[\"CurrentCommunityInitialData\",[],{},490],[\"CurrentEnvironment\",[],{\"facebookdotcom\":true,\"messengerdotcom\":false,\"workplacedotcom\":false,\"instagramdotcom\":false,\"workdotmetadotcom\":false},827],[\"CurrentUserInitialData\",[],{\"ACCOUNT_ID\":\"0\",\"USER_ID\":\"0\",\"NAME\":\"\",\"SHORT_NAME\":null,\"IS_BUSINESS_PERSON_ACCOUNT\":false,\"HAS_SECONDARY_BUSINESS_PERSON\":false,\"IS_FACEBOOK_WORK_ACCOUNT\":false,\"IS_MESSENGER_ONLY_USER\":false,\"IS_DEACTIVATED_ALLOWED_ON_MESSENGER\":false,\"IS_MESSENGER_CALL_GUEST_USER\":false,\"IS_WORK_MESSENGER_CALL_GUEST_USER\":false,\"IS_WORKROOMS_USER\":false,\"APP_ID\":\"256281040558\",\"IS_BUSINESS_DOMAIN\":false},270],[\"DTSGInitialData\",[],{},258],[\"ISB\",[],{},330],[\"LSD\",[],{\"token\":\"AVqGbvyBc6M\"},323],[\"ServerNonce\",[],{\"ServerNonce\":\"1cJKiZMe5t8pLloe5VRJfP\"},141],[\"SiteData\",[],{\"server_revision\":1006985430,\"client_revision\":1006985430,\"tier\":\"\",\"push_phase\":\"C3\",\"pkg_cohort\":\"BP:DEFAULT\",\"haste_session\":\"19408.BP:DEFAULT.2.0.0.0.0\",\"pr\":1,\"haste_site\":\"www\",\"manifest_base_uri\":\"https:\\/\\/static.xx.fbcdn.net\",\"manifest_origin\":null,\"manifest_version_prefix\":null,\"be_one_ahead\":false,\"is_rtl\":false,\"is_comet\":false,\"is_experimental_tier\":false,\"is_jit_warmed_up\":true,\"hsi\":\"7202186335736431502\",\"semr_host_bucket\":\"5\",\"bl_hash_version\":2,\"skip_rd_bl\":true,\"comet_env\":0,\"wbloks_env\":false,\"spin\":4,\"__spin_r\":1006985430,\"__spin_b\":\"trunk\",\"__spin_t\":1676889680,\"vip\":\"31.13.69.35\"},317],[\"SprinkleConfig\",[],{\"param_name\":\"jazoest\",\"version\":2,\"should_randomize\":false},2111],[\"UserAgentData\",[],{\"browserArchitecture\":\"32\",\"browserFullVersion\":null,\"browserMinorVersion\":null,\"browserName\":\"Unknown\",\"browserVersion\":null,\"deviceName\":\"Unknown\",\"engineName\":\"Unknown\",\"engineVersion\":null,\"platformArchitecture\":\"32\",\"platformName\":\"Unknown\",\"platformVersion\":null,\"platformFullVersion\":null},527],[\"PromiseUsePolyfillSetImmediateGK\",[],{\"www_always_use_polyfill_setimmediate\":false},2190],[\"KSConfig\",[],{\"killed\":{\"__set\":[\"MLHUB_FLOW_AUTOREFRESH_SEARCH\",\"NEKO_DISABLE_CREATE_FOR_SAP\",\"EO_DISABLE_SYSTEM_SERIAL_NUMBER_FREE_TYPING_IN_CPE_NON_CLIENT\",\"MOBILITY_KILL_OLD_VISIBILITY_POSITION_SETTING\",\"WORKPLACE_DISPLAY_TEXT_EVIDENCE_REPORTING\",\"BUSINESS_INVITE_FLOW_WITH_SELLER_PROFILE\",\"BUY_AT_UI_LINE_DELETE\",\"BUSINESS_GRAPH_SETTING_APP_ASSIGNED_USERS_NEW_API\",\"BUSINESS_GRAPH_SETTING_BU_ASSIGNED_USERS_NEW_API\",\"BUSINESS_GRAPH_SETTING_ESG_ASSIGNED_USERS_NEW_API\",\"BUSINESS_GRAPH_SETTING_PRODUCT_CATALOG_ASSIGNED_USERS_NEW_API\",\"BUSINESS_GRAPH_SETTING_SESG_ASSIGNED_USERS_NEW_API\",\"BUSINESS_GRAPH_SETTING_WABA_ASSIGNED_USERS_NEW_API\",\"ADS_PLACEMENT_FIX_PUBLISHER_PLATFORMS_MUTATION\",\"FORCE_FETCH_BOOSTED_COMPONENT_AFTER_ADS_CREATION\",\"VIDEO_DIMENSIONS_FROM_PLAYER_IN_UPLOAD_DIALOG\",\"SNIVY_GROUP_BY_EVENT_TRACE_ID_AND_NAME\",\"ADS_STORE_VISITS_METRICS_DEPRECATION\",\"AD_DRAFT_ENABLE_SYNCRHONOUS_FRAGMENT_VALIDATION\",\"SEPARATE_MESSAGING_COMACTIVITY_PAGE_PERMS\",\"LAB_NET_NEW_UI_RELEASE\",\"POCKET_MONSTERS_CREATE\",\"POCKET_MONSTERS_DELETE\",\"WORKPLACE_PLATFORM_SECURE_APPS_MAILBOXES\",\"POCKET_MONSTERS_UPDATE_NAME\",\"IC_DISABLE_MERGE_TOOL_FEED_CHECK_FOR_REPLACE_SCHEDULE\",\"ADS_EPD_IMPACTED_ADVERTISER_MIGRATE_XCONTROLLER\",\"RECRUITING_CANDIDATE_PORTAL_ACCOUNT_DELETION_CARD\",\"BIZ_INBOX_POP_UP_TIP_NAVIGATION_BUG_FIX\",\"SRT_REVIEW_DISABLE_FELLOWSHIP_REVIEW\",\"EO_STORE_HOME_PAGE_COVID19_BANNER\"]},\"ko\":{\"__set\":[\"3OsLvnSHNTt\",\"1G7wJ6bJt9K\",\"9NpkGYwzrPG\",\"3oh5Mw86USj\",\"8NAceEy9JZo\",\"7FOIzos6XJX\",\"rf8JEPGgOi\",\"4j36SVzvP3w\",\"4NSq3ZC4ScE\",\"53gCxKq281G\",\"3yzzwBY7Npj\",\"1onzIv0jH6H\",\"8PlKuowafe8\",\"1ntjZ2zgf03\",\"4SIH2GRVX5W\",\"2dhqRnqXGLQ\",\"2WgiNOrHVuC\",\"amKHb4Cw4WI\",\"8rDvN9vWdAK\",\"5BdzWGmfvrA\",\"DDZhogI19W\",\"acrJTh9WGdp\",\"1oOE64fL4wO\",\"5XCz1h9Iaw3\",\"7r6mSP7ofr2\",\"6DGPLrRdyts\",\"aWxCyi1sEC7\",\"9kCSDzzr8fu\",\"awYA7fn2Bse\",\"aBMlJ8QRPWE\",\"Fl3bH3ozLe\"]}},2580],[\"JSErrorLoggingConfig\",[],{\"appId\":256281040558,\"extra\":[],\"reportInterval\":50,\"sampleWeight\":null,\"sampleWeightKey\":\"__jssesw\",\"projectBlocklist\":[]},2776],[\"DataStoreConfig\",[],{\"expandoKey\":\"__FB_STORE\",\"useExpando\":true},2915],[\"CookieCoreLoggingConfig\",[],{\"maximumIgnorableStallMs\":16.67,\"sampleRate\":9.7e-5,\"sampleRateClassic\":1.0e-10,\"sampleRateFastStale\":1.0e-8},3401],[\"ImmediateImplementationExperiments\",[],{\"prefer_message_channel\":true},3419],[\"DTSGInitData\",[],{\"token\":\"\",\"async_get_token\":\"\"},3515],[\"UriNeedRawQuerySVConfig\",[],{\"uris\":[\"dms.netmng.com\",\"doubleclick.net\",\"r.msn.com\",\"watchit.sky.com\",\"graphite.instagram.com\",\"www.kfc.co.th\",\"learn.pantheon.io\",\"www.landmarkshops.in\",\"www.ncl.com\",\"s0.wp.com\",\"www.tatacliq.com\",\"bs.serving-sys.com\",\"kohls.com\",\"lazada.co.th\",\"xg4ken.com\",\"technopark.ru\",\"officedepot.com.mx\",\"bestbuy.com.mx\",\"booking.com\",\"nibio.no\"]},3871],[\"InitialCookieConsent\",[],{\"deferCookies\":false,\"initialConsent\":{\"__set\":[1,2]},\"noCookies\":false,\"shouldShowCookieBanner\":false},4328],[\"WebConnectionClassServerGuess\",[],{\"connectionClass\":\"EXCELLENT\"},4705],[\"CometAltpayJsSdkIframeAllowedDomains\",[],{\"allowed_domains\":[\"https:\\/\\/live.adyen.com\",\"https:\\/\\/integration-facebook.payu.in\",\"https:\\/\\/facebook.payulatam.com\",\"https:\\/\\/secure.payu.com\",\"https:\\/\\/facebook.dlocal.com\",\"https:\\/\\/buy2.boku.com\"]},4920],[\"BootloaderEndpointConfig\",[],{\"debugNoBatching\":false,\"endpointURI\":\"https:\\/\\/www.facebook.com\\/ajax\\/bootloader-endpoint\\/\"},5094],[\"CookieConsentIFrameConfig\",[],{\"consent_param\":\"FQAREhIA.ARZzfgyTTqdoxLF2lEUmFlQXwNCw6eThlwKvv4hx1O_4a1wB\",\"allowlisted_iframes\":[]},5540],[\"BigPipeExperiments\",[],{\"link_images_to_pagelets\":false,\"enable_bigpipe_plugins\":false},907],[\"IntlVariationHoldout\",[],{\"disable_variation\":false},6533],[\"AsyncRequestConfig\",[],{\"retryOnNetworkError\":\"1\",\"useFetchStreamAjaxPipeTransport\":false},328],[\"FbtQTOverrides\",[],{\"overrides\":{}},551],[\"FbtResultGK\",[],{\"shouldReturnFbtResult\":true,\"inlineMode\":\"NO_INLINE\"},876],[\"IntlPhonologicalRules\",[],{\"meta\":{},\"patterns\":{}},1496],[\"IntlViewerContext\",[],{\"GENDER\":3,\"regionalLocale\":null},772],[\"NumberFormatConfig\",[],{\"decimalSeparator\":\",\",\"numberDelimiter\":\"\\u00a0\",\"minDigitsForThousandsSeparator\":4,\"standardDecimalPatternInfo\":{\"primaryGroupSize\":3,\"secondaryGroupSize\":3},\"numberingSystemData\":null},54],[\"SessionNameConfig\",[],{\"seed\":\"2X2L\"},757],[\"ZeroCategoryHeader\",[],{},1127],[\"ZeroRewriteRules\",[],{\"rewrite_rules\":{},\"whitelist\":{\"\\/hr\\/r\":1,\"\\/hr\\/p\":1,\"\\/zero\\/unsupported_browser\\/\":1,\"\\/zero\\/policy\\/optin\":1,\"\\/zero\\/optin\\/write\\/\":1,\"\\/zero\\/optin\\/legal\\/\":1,\"\\/zero\\/optin\\/free\\/\":1,\"\\/about\\/privacy\\/\":1,\"\\/about\\/privacy\\/update\\/\":1,\"\\/privacy\\/explanation\\/\":1,\"\\/zero\\/toggle\\/welcome\\/\":1,\"\\/zero\\/toggle\\/nux\\/\":1,\"\\/zero\\/toggle\\/settings\\/\":1,\"\\/fup\\/interstitial\\/\":1,\"\\/work\\/landing\":1,\"\\/work\\/login\\/\":1,\"\\/work\\/email\\/\":1,\"\\/ai.php\":1,\"\\/js_dialog_resources\\/dialog_descriptions_android.json\":0,\"\\/connect\\/jsdialog\\/MPlatformAppInvitesJSDialog\\/\":0,\"\\/connect\\/jsdialog\\/MPlatformOAuthShimJSDialog\\/\":0,\"\\/connect\\/jsdialog\\/MPlatformLikeJSDialog\\/\":0,\"\\/qp\\/interstitial\\/\":1,\"\\/qp\\/action\\/redirect\\/\":1,\"\\/qp\\/action\\/close\\/\":1,\"\\/zero\\/support\\/ineligible\\/\":1,\"\\/zero_balance_redirect\\/\":1,\"\\/zero_balance_redirect\":1,\"\\/zero_balance_redirect\\/l\\/\":1,\"\\/l.php\":1,\"\\/lsr.php\":1,\"\\/ajax\\/dtsg\\/\":1,\"\\/checkpoint\\/block\\/\":1,\"\\/exitdsite\":1,\"\\/zero\\/balance\\/pixel\\/\":1,\"\\/zero\\/balance\\/\":1,\"\\/zero\\/balance\\/carrier_landing\\/\":1,\"\\/zero\\/flex\\/logging\\/\":1,\"\\/tr\":1,\"\\/tr\\/\":1,\"\\/sem_campaigns\\/sem_pixel_test\\/\":1,\"\\/bookmarks\\/flyout\\/body\\/\":1,\"\\/zero\\/subno\\/\":1,\"\\/confirmemail.php\":1,\"\\/policies\\/\":1,\"\\/mobile\\/internetdotorg\\/classifier\\/\":1,\"\\/zero\\/dogfooding\":1,\"\\/xti.php\":1,\"\\/zero\\/fblite\\/config\\/\":1,\"\\/hr\\/zsh\\/wc\\/\":1,\"\\/ajax\\/bootloader-endpoint\\/\":1,\"\\/mobile\\/zero\\/carrier_page\\/\":1,\"\\/mobile\\/zero\\/carrier_page\\/education_page\\/\":1,\"\\/mobile\\/zero\\/carrier_page\\/feature_switch\\/\":1,\"\\/mobile\\/zero\\/carrier_page\\/settings_page\\/\":1,\"\\/aloha_check_build\":1,\"\\/upsell\\/zbd\\/softnudge\\/\":1,\"\\/mobile\\/zero\\/af_transition\\/\":1,\"\\/mobile\\/zero\\/af_transition\\/action\\/\":1,\"\\/mobile\\/zero\\/freemium\\/\":1,\"\\/mobile\\/zero\\/freemium\\/redirect\\/\":1,\"\\/mobile\\/zero\\/freemium\\/zero_fup\\/\":1,\"\\/privacy\\/policy\\/\":1,\"\\/privacy\\/center\\/\":1,\"\\/data\\/manifest\\/\":1,\"\\/4oh4.php\":1,\"\\/autologin.php\":1,\"\\/birthday_help.php\":1,\"\\/checkpoint\\/\":1,\"\\/contact-importer\\/\":1,\"\\/cr.php\":1,\"\\/legal\\/terms\\/\":1,\"\\/login.php\":1,\"\\/login\\/\":1,\"\\/mobile\\/account\\/\":1,\"\\/n\\/\":1,\"\\/remote_test_device\\/\":1,\"\\/upsell\\/buy\\/\":1,\"\\/upsell\\/buyconfirm\\/\":1,\"\\/upsell\\/buyresult\\/\":1,\"\\/upsell\\/promos\\/\":1,\"\\/upsell\\/continue\\/\":1,\"\\/upsell\\/h\\/promos\\/\":1,\"\\/upsell\\/loan\\/learnmore\\/\":1,\"\\/upsell\\/purchase\\/\":1,\"\\/upsell\\/promos\\/upgrade\\/\":1,\"\\/upsell\\/buy_redirect\\/\":1,\"\\/upsell\\/loan\\/buyconfirm\\/\":1,\"\\/upsell\\/loan\\/buy\\/\":1,\"\\/upsell\\/sms\\/\":1,\"\\/wap\\/a\\/channel\\/reconnect.php\":1,\"\\/wap\\/a\\/nux\\/wizard\\/nav.php\":1,\"\\/wap\\/appreg.php\":1,\"\\/wap\\/birthday_help.php\":1,\"\\/wap\\/c.php\":1,\"\\/wap\\/confirmemail.php\":1,\"\\/wap\\/cr.php\":1,\"\\/wap\\/login.php\":1,\"\\/wap\\/r.php\":1,\"\\/zero\\/datapolicy\":1,\"\\/a\\/timezone.php\":1,\"\\/a\\/bz\":1,\"\\/bz\\/reliability\":1,\"\\/r.php\":1,\"\\/mr\\/\":1,\"\\/reg\\/\":1,\"\\/registration\\/log\\/\":1,\"\\/terms\\/\":1,\"\\/f123\\/\":1,\"\\/expert\\/\":1,\"\\/experts\\/\":1,\"\\/terms\\/index.php\":1,\"\\/terms.php\":1,\"\\/srr\\/\":1,\"\\/msite\\/redirect\\/\":1,\"\\/fbs\\/pixel\\/\":1,\"\\/contactpoint\\/preconfirmation\\/\":1,\"\\/contactpoint\\/cliff\\/\":1,\"\\/contactpoint\\/confirm\\/submit\\/\":1,\"\\/contactpoint\\/confirmed\\/\":1,\"\\/contactpoint\\/login\\/\":1,\"\\/preconfirmation\\/contactpoint_change\\/\":1,\"\\/help\\/contact\\/\":1,\"\\/survey\\/\":1,\"\\/upsell\\/loyaltytopup\\/accept\\/\":1,\"\\/settings\\/\":1,\"\\/lite\\/\":1,\"\\/zero_status_update\\/\":1,\"\\/operator_store\\/\":1,\"\\/upsell\\/\":1,\"\\/wifiauth\\/login\\/\":1}},1478],[\"ServerTimeData\",[],{\"serverTime\":1676889680306,\"timeOfRequestStart\":1676889680216.2,\"timeOfResponseStart\":1676889680216.2},5943],[\"AnalyticsCoreData\",[],{\"device_id\":\"$^|AcZrjzwFpg6ah9HgqKJtBoaIaLGJcs080E5N1huzkeOrAwqQSerritA6nhgmCPhN1_CXyqY7xwOaFznnI3v-PDU|fd.AcZWO2v5S1CeTypdoSdGr-mA518Fg9LGkB0DB1Q7JAfbx1yiPeKmCvsmCDX0cc-IBEfIesu13KxH0joYmMuVpejX\",\"app_id\":\"256281040558\",\"enable_bladerunner\":false,\"enable_ack\":true,\"push_phase\":\"C3\",\"enable_observer\":false,\"enable_dataloss_timer\":false,\"enable_fallback_for_br\":true,\"fix_br_init_rc\":true,\"queue_activation_experiment\":false,\"max_delay_br_queue\":60000,\"max_delay_br_queue_immediate\":3,\"use_critical_for_fallback_from_immediate\":false,\"consents\":{},\"impression_experiment_flag\":3},5237],[\"cr:3769\",[\"PromiseImpl\"],{\"__rc\":[\"PromiseImpl\",\"Aa3gq2MoXD46uh12KnmQ8lHNOQDIahzmQo5TzsTtAXPeRs9GPB-EqDBjQo2Q8P3l4j1Kt2x2YwNJ68yHH2EfMt1pnW8\"]},-1],[\"cr:696703\",[],{\"__rc\":[null,\"Aa3gq2MoXD46uh12KnmQ8lHNOQDIahzmQo5TzsTtAXPeRs9GPB-EqDBjQo2Q8P3l4j1Kt2x2YwNJ68yHH2EfMt1pnW8\"]},-1],[\"cr:708886\",[\"EventProfilerImpl\"],{\"__rc\":[\"EventProfilerImpl\",\"Aa3gq2MoXD46uh12KnmQ8lHNOQDIahzmQo5TzsTtAXPeRs9GPB-EqDBjQo2Q8P3l4j1Kt2x2YwNJ68yHH2EfMt1pnW8\"]},-1],[\"cr:717822\",[\"TimeSliceImpl\"],{\"__rc\":[\"TimeSliceImpl\",\"Aa3gq2MoXD46uh12KnmQ8lHNOQDIahzmQo5TzsTtAXPeRs9GPB-EqDBjQo2Q8P3l4j1Kt2x2YwNJ68yHH2EfMt1pnW8\"]},-1],[\"cr:806696\",[\"clearTimeoutBlue\"],{\"__rc\":[\"clearTimeoutBlue\",\"Aa3gq2MoXD46uh12KnmQ8lHNOQDIahzmQo5TzsTtAXPeRs9GPB-EqDBjQo2Q8P3l4j1Kt2x2YwNJ68yHH2EfMt1pnW8\"]},-1],[\"cr:807042\",[\"setTimeoutBlue\"],{\"__rc\":[\"setTimeoutBlue\",\"Aa3gq2MoXD46uh12KnmQ8lHNOQDIahzmQo5TzsTtAXPeRs9GPB-EqDBjQo2Q8P3l4j1Kt2x2YwNJ68yHH2EfMt1pnW8\"]},-1],[\"cr:896462\",[\"setIntervalAcrossTransitionsBlue\"],{\"__rc\":[\"setIntervalAcrossTransitionsBlue\",\"Aa3gq2MoXD46uh12KnmQ8lHNOQDIahzmQo5TzsTtAXPeRs9GPB-EqDBjQo2Q8P3l4j1Kt2x2YwNJ68yHH2EfMt1pnW8\"]},-1],[\"cr:986633\",[\"setTimeoutAcrossTransitionsBlue\"],{\"__rc\":[\"setTimeoutAcrossTransitionsBlue\",\"Aa3gq2MoXD46uh12KnmQ8lHNOQDIahzmQo5TzsTtAXPeRs9GPB-EqDBjQo2Q8P3l4j1Kt2x2YwNJ68yHH2EfMt1pnW8\"]},-1],[\"cr:1003267\",[\"clearIntervalBlue\"],{\"__rc\":[\"clearIntervalBlue\",\"Aa3gq2MoXD46uh12KnmQ8lHNOQDIahzmQo5TzsTtAXPeRs9GPB-EqDBjQo2Q8P3l4j1Kt2x2YwNJ68yHH2EfMt1pnW8\"]},-1],[\"cr:2457\",[\"FbtNumberTypeDeprecated\"],{\"__rc\":[\"FbtNumberTypeDeprecated\",\"Aa0EWDqP4I66Pw3B8jFgq5kocWDzEVfrO6sGMJdiEXbVl9E6vwOpBfrMt-v0ApofPvzv1X6oSaIg2oiVJbZ2r3QHpetHyYGoGflfO8S8pJ-Uv9Q\"]},-1],[\"cr:1183579\",[\"InlineFbtResultImpl\"],{\"__rc\":[\"InlineFbtResultImpl\",\"Aa3gq2MoXD46uh12KnmQ8lHNOQDIahzmQo5TzsTtAXPeRs9GPB-EqDBjQo2Q8P3l4j1Kt2x2YwNJ68yHH2EfMt1pnW8\"]},-1],[\"cr:925100\",[\"RunBlue\"],{\"__rc\":[\"RunBlue\",\"Aa3gq2MoXD46uh12KnmQ8lHNOQDIahzmQo5TzsTtAXPeRs9GPB-EqDBjQo2Q8P3l4j1Kt2x2YwNJ68yHH2EfMt1pnW8\"]},-1],[\"cr:729414\",[\"VisualCompletion\"],{\"__rc\":[\"VisualCompletion\",\"Aa0lgwYJlN6D3hb-rpbMQjFtRWsfCYA4dJiGU3p4NR_bbYFHNPtfWJrgYxIDaFheKRtLoUp17Vj5vj3GPFYZPnom\"]},-1],[\"cr:1094907\",[],{\"__rc\":[null,\"Aa3DsGM2RpHEmI9MKWlotn6J8ub_lbDfzPY2lq4BGZyN1bbKVN1RLx8J-fuvMilipZ8inBw9WtNlg-aQD69PLCM\"]},-1],[\"EventConfig\",[],{\"sampling\":{\"bandwidth\":0,\"play\":0,\"playing\":0,\"progress\":0,\"pause\":0,\"ended\":0,\"seeked\":0,\"seeking\":0,\"waiting\":0,\"loadedmetadata\":0,\"canplay\":0,\"selectionchange\":0,\"change\":0,\"timeupdate\":0,\"adaptation\":0,\"focus\":0,\"blur\":0,\"load\":0,\"error\":0,\"message\":0,\"abort\":0,\"storage\":0,\"scroll\":200000,\"mousemove\":20000,\"mouseover\":10000,\"mouseout\":10000,\"mousewheel\":1,\"MSPointerMove\":10000,\"keydown\":0.1,\"click\":0.02,\"mouseup\":0.02,\"__100ms\":0.001,\"__default\":5000,\"__min\":100,\"__interactionDefault\":200,\"__eventDefault\":100000},\"page_sampling_boost\":1,\"interaction_regexes\":{},\"interaction_boost\":{},\"event_types\":{},\"manual_instrumentation\":false,\"profile_eager_execution\":false,\"disable_heuristic\":true,\"disable_event_profiler\":false},1726],[\"AdsInterfacesSessionConfig\",[],{},2393],[\"IntlNumberTypeConfig\",[],{\"impl\":\"if ((n === 0 || n === 1)) { return IntlVariations.NUMBER_ONE; } else { return IntlVariations.NUMBER_OTHER; }\"},3405],[\"IntlCurrentLocale\",[],{\"code\":\"fr_FR\"},5954],[\"USIDMetadata\",[],{\"browser_id\":\"?\",\"tab_id\":\"\",\"page_id\":\"Prqdkcwd8jar4\",\"transition_id\":0,\"version\":6},5888],[\"cr:686\",[],{\"__rc\":[null,\"Aa3cPbiHecVo4HuNoeG1h8GKnA0044H2vVrQMkxKW0gDH9hChwPsYOATCJ9qLuX4tjYwUKuqvjqE6Mte3mUW9PmN\"]},-1],[\"cr:1984081\",[],{\"__rc\":[null,\"Aa0-fj1MW24lQOk3J4SkN17ADLcylpliWc1soBfCvRy1NoeI0xWnqk_R81Cdm2-Hx1R-WDjnjVmKXRClkrVgt-fC2VOT\"]},-1]],\"require\":[[\"markJSEnabled\"],[\"lowerDomain\"],[\"URLFragmentPrelude\"],[\"Primer\"],[\"BigPipe\"],[\"Bootloader\"],[\"TimeSlice\"],[\"AsyncRequest\"],[\"BanzaiScuba_DEPRECATED\"],[\"VisualCompletionGating\"],[\"FbtLogging\"],[\"IntlQtEventFalcoEvent\"],[\"RequireDeferredReference\",\"unblock\",[],[[\"AsyncRequest\",\"BanzaiScuba_DEPRECATED\",\"VisualCompletionGating\",\"FbtLogging\",\"IntlQtEventFalcoEvent\"],\"sd\"]],[\"RequireDeferredReference\",\"unblock\",[],[[\"AsyncRequest\",\"BanzaiScuba_DEPRECATED\",\"VisualCompletionGating\",\"FbtLogging\",\"IntlQtEventFalcoEvent\"],\"css\"]]]});});</script></head><body class=\"fbIndex UIPage_LoggedOut _-kb _605a b_c3pyn-ahh x1 Locale_fr_FR\" dir=\"ltr\"><script nonce=\"4Dxwn4rZ\" type=\"text/javascript\">requireLazy([\"bootstrapWebSession\"],function(j){j(1676889680)})</script><div class=\"_li\" id=\"u_0_1_w6\"><div class=\"uiContextualLayerParent\" id=\"globalContainer\"><div class=\"fb_content clearfix\" id=\"content\" role=\"main\"><div><div class=\"_8esj _95k9 _8esf _8opv _8f3m _8ilg _8icx _8op_ _95ka\"><div class=\"_8esk\"><div class=\"_8esl\"><div class=\"_8ice\"><img alt=\"Facebook\" class=\"fb_logo _8ilh img\" src=\"https://static.xx.fbcdn.net/rsrc.php/y8/r/dF5SId3UHWd.svg\"/></div><h2 class=\"_8eso\">Avec Facebook, partagez et restez en contact avec votre entourage.</h2></div><div class=\"_8esn\"><div class=\"_8iep _8icy _9ahz _9ah-\"><div class=\"_6luv _52jv\"><form action=\"/login/?privacy_mutation_token=eyJ0eXBlIjowLCJjcmVhdGlvbl90aW1lIjoxNjc2ODg5NjgwLCJjYWxsc2l0ZV9pZCI6MzgxMjI5MDc5NTc1OTQ2fQ%3D%3D\" class=\"_9vtf\" data-testid=\"royal_login_form\" id=\"u_0_2_mm\" method=\"post\" onsubmit=\"\"><input autocomplete=\"off\" name=\"jazoest\" type=\"hidden\" value=\"2968\"/><input autocomplete=\"off\" name=\"lsd\" type=\"hidden\" value=\"AVqGbvyBc6M\"/><div><div class=\"_6lux\"><input aria-label=\"Adresse e-mail ou numéro de tél.\" autofocus=\"1\" class=\"inputtext _55r1 _6luy\" data-testid=\"royal_email\" id=\"email\" name=\"email\" placeholder=\"Adresse e-mail ou numéro de tél.\" type=\"text\"/></div><div class=\"_6lux\"><div class=\"_6luy _55r1 _1kbt\" id=\"passContainer\"><input aria-label=\"Mot de passe\" class=\"inputtext _55r1 _6luy _9npi\" data-testid=\"royal_pass\" id=\"pass\" name=\"pass\" placeholder=\"Mot de passe\" type=\"password\"/><div class=\"_9ls7\" id=\"u_0_3_dp\"><a href=\"#\" role=\"button\"><div class=\"_9lsa\"><div class=\"_9lsb\" id=\"u_0_4_aU\"></div></div></a></div></div></div></div><input autocomplete=\"off\" name=\"login_source\" type=\"hidden\" value=\"comet_headerless_login\"/><input autocomplete=\"off\" name=\"next\" type=\"hidden\" value=\"\"/><div class=\"_6ltg\"><button class=\"_42ft _4jy0 _6lth _4jy6 _4jy1 selected _51sy\" data-testid=\"royal_login_button\" id=\"u_0_5_+u\" name=\"login\" type=\"submit\" value=\"1\">Se connecter</button></div><div class=\"_6ltj\"><a href=\"https://www.facebook.com/recover/initiate/?privacy_mutation_token=eyJ0eXBlIjowLCJjcmVhdGlvbl90aW1lIjoxNjc2ODg5NjgwLCJjYWxsc2l0ZV9pZCI6MzgxMjI5MDc5NTc1OTQ2fQ%3D%3D&amp;ars=facebook_login\">Mot de passe oublié ?</a></div><div class=\"_8icz\"></div><div class=\"_6ltg\"><a ajaxify=\"/reg/spotlight/\" class=\"_42ft _4jy0 _6lti _4jy6 _4jy2 selected _51sy\" data-testid=\"open-registration-form-button\" href=\"#\" id=\"u_0_0_m2\" rel=\"async\" role=\"button\">Créer nouveau compte</a></div></form></div><div class=\"_58mk\" id=\"reg_pages_msg\"><a class=\"_8esh\" href=\"/pages/create/?ref_type=registration_form\">Créer une Page</a> pour une célébrité, une marque ou une entreprise.</div></div></div></div></div></div></div><div class=\"\"><div class=\"_95ke _8opy\"><div data-referrer=\"page_footer\" data-testid=\"page_footer\" id=\"pageFooter\"><ul class=\"uiList localeSelectorList _2pid _509- _4ki _6-h _6-j _6-i\" data-nocookies=\"1\"><li>Français (France)</li><li><a class=\"_sv4\" dir=\"rtl\" href=\"https://ar-ar.facebook.com/\" onclick='require(\"IntlUtils\").setCookieLocale(\"ar_AR\", \"fr_FR\", \"https:\\/\\/ar-ar.facebook.com\\/\", \"www_list_selector\", 0); return false;' title=\"Arabic\">العربية</a></li><li><a class=\"_sv4\" dir=\"ltr\" href=\"https://www.facebook.com/\" onclick='require(\"IntlUtils\").setCookieLocale(\"en_US\", \"fr_FR\", \"https:\\/\\/www.facebook.com\\/\", \"www_list_selector\", 1); return false;' title=\"English (US)\">English (US)</a></li><li><a class=\"_sv4\" dir=\"ltr\" href=\"https://it-it.facebook.com/\" onclick='require(\"IntlUtils\").setCookieLocale(\"it_IT\", \"fr_FR\", \"https:\\/\\/it-it.facebook.com\\/\", \"www_list_selector\", 2); return false;' title=\"Italian\">Italiano</a></li><li><a class=\"_sv4\" dir=\"ltr\" href=\"https://de-de.facebook.com/\" onclick='require(\"IntlUtils\").setCookieLocale(\"de_DE\", \"fr_FR\", \"https:\\/\\/de-de.facebook.com\\/\", \"www_list_selector\", 3); return false;' title=\"German\">Deutsch</a></li><li><a class=\"_sv4\" dir=\"ltr\" href=\"https://es-la.facebook.com/\" onclick='require(\"IntlUtils\").setCookieLocale(\"es_LA\", \"fr_FR\", \"https:\\/\\/es-la.facebook.com\\/\", \"www_list_selector\", 4); return false;' title=\"Spanish\">Español</a></li><li><a class=\"_sv4\" dir=\"ltr\" href=\"https://ru-ru.facebook.com/\" onclick='require(\"IntlUtils\").setCookieLocale(\"ru_RU\", \"fr_FR\", \"https:\\/\\/ru-ru.facebook.com\\/\", \"www_list_selector\", 5); return false;' title=\"Russian\">Русский</a></li><li><a class=\"_sv4\" dir=\"ltr\" href=\"https://pt-br.facebook.com/\" onclick='require(\"IntlUtils\").setCookieLocale(\"pt_BR\", \"fr_FR\", \"https:\\/\\/pt-br.facebook.com\\/\", \"www_list_selector\", 6); return false;' title=\"Portuguese (Brazil)\">Português (Brasil)</a></li><li><a class=\"_sv4\" dir=\"ltr\" href=\"https://hi-in.facebook.com/\" onclick='require(\"IntlUtils\").setCookieLocale(\"hi_IN\", \"fr_FR\", \"https:\\/\\/hi-in.facebook.com\\/\", \"www_list_selector\", 7); return false;' title=\"Hindi\">हिन्दी</a></li><li><a class=\"_sv4\" dir=\"ltr\" href=\"https://zh-cn.facebook.com/\" onclick='require(\"IntlUtils\").setCookieLocale(\"zh_CN\", \"fr_FR\", \"https:\\/\\/zh-cn.facebook.com\\/\", \"www_list_selector\", 8); return false;' title=\"Simplified Chinese (China)\">中文(简体)</a></li><li><a class=\"_sv4\" dir=\"ltr\" href=\"https://ja-jp.facebook.com/\" onclick='require(\"IntlUtils\").setCookieLocale(\"ja_JP\", \"fr_FR\", \"https:\\/\\/ja-jp.facebook.com\\/\", \"www_list_selector\", 9); return false;' title=\"Japanese\">日本語</a></li><li><a ajaxify=\"/settings/language/language/?uri=https%3A%2F%2Fja-jp.facebook.com%2F&amp;source=www_list_selector_more\" class=\"_42ft _4jy0 _517i _517h _51sy\" href=\"#\" rel=\"dialog\" role=\"button\" title=\"Voir plus de langues\"><i class=\"img sp_h4Swrc8tiWJ sx_8ed39e\"></i></a></li></ul><div id=\"contentCurve\"></div><div aria-label=\"Liens Facebook\" id=\"pageFooterChildren\" role=\"contentinfo\"><ul class=\"uiList pageFooterLinkList _509- _4ki _703 _6-i\"><li><a href=\"/reg/\" title=\"Inscrivez-vous sur Facebook\">S’inscrire</a></li><li><a href=\"/login/\" title=\"Se connecter à Facebook\">Se connecter</a></li><li><a href=\"https://messenger.com/\" title=\"Essayez Messenger.\">Messenger</a></li><li><a href=\"/lite/\" title=\"Facebook Lite pour Android.\">Facebook Lite</a></li><li><a href=\"https://www.facebook.com/watch/\" title=\"Naviguez parmi nos vidéos Watch.\">Watch</a></li><li><a href=\"/places/\" title=\"Découvrez les lieux populaires sur Facebook.\">Lieux</a></li><li><a href=\"/games/\" title=\"Découvrez les jeux Facebook.\">Jeux</a></li><li><a href=\"/marketplace/\" title=\"Achetez et vendez sur Facebook Marketplace.\">Marketplace</a></li><li><a href=\"https://pay.facebook.com/\" target=\"_blank\" title=\"En savoir plus sur Meta Pay\">Meta Pay</a></li><li><a href=\"https://www.oculus.com/\" target=\"_blank\" title=\"En savoir plus sur Oculus\">Oculus</a></li><li><a href=\"https://portal.facebook.com/\" target=\"_blank\" title=\"En savoir plus sur Facebook Portal\">Portal</a></li><li><a data-lynx-mode=\"hover\" href=\"https://l.facebook.com/l.php?u=https%3A%2F%2Fwww.instagram.com%2F&amp;h=AT2gOwbdAg3Fy8JEopMmLBh8THiA3AcfPxNBvrrDFvV6CizuK3yX2Shtu-2dgZ6DIQBZysLqQL9EwRGPCexYPktetvqUL_Q-2Fjv6JIXWYjfwRMHrwYg3_N5oBuJ4DYsmZoM2aUBznvTrEQ8\" rel=\"nofollow\" target=\"_blank\" title=\"Découvrez Instagram\">Instagram</a></li><li><a href=\"https://www.bulletin.com/\" title=\"Découvrez la newsletter Bulletin\">Bulletin</a></li><li><a href=\"/fundraisers/\" title=\"Faire un don à des causes qui le méritent.\">Collectes de dons</a></li><li><a href=\"/biz/directory/\" title=\"Parcourir notre annuaire des services Facebook.\">Services</a></li><li><a href=\"/votinginformationcenter/?entry_point=c2l0ZQ%3D%3D\" title=\"Voir le Centre d’information sur les élections.\">Centre d’information sur les élections</a></li><li><a href=\"/privacy/policy/?entry_point=facebook_page_footer\" title=\"Découvrez comment nous collectons, utilisons et partageons les informations pour faire fonctionner Facebook.\">Politique de confidentialité</a></li><li><a href=\"/privacy/center/?entry_point=facebook_page_footer\" title=\"Découvrez comment gérer et contrôler votre confidentialité sur Facebook.\">Centre de confidentialité</a></li><li><a href=\"/groups/explore/\" title=\"Découvrir nos groupes.\">Groupes</a></li><li><a accesskey=\"8\" href=\"https://about.meta.com/\" title=\"Consultez notre blog, découvrez notre centre de ressources et recherchez des offres d’emploi.\">À propos</a></li><li><a href=\"/ad_campaign/landing.php?placement=pflo&amp;campaign_id=402047449186&amp;nav_source=unknown&amp;extra_1=auto\" title=\"Diffusez votre publicité sur Facebook.\">Créer une publicité</a></li><li><a href=\"/pages/create/?ref_type=site_footer\" title=\"Créez une Page.\">Créer une Page</a></li><li><a href=\"https://developers.facebook.com/?ref=pf\" title=\"Développez sur notre propre plateforme.\">Développeurs</a></li><li><a href=\"/careers/?ref=pf\" title=\"Faites évoluer votre carrière en rejoignant notre incroyable entreprise.\">Emplois</a></li><li><a data-nocookies=\"1\" href=\"/policies/cookies/\" title=\"À propos des cookies et de Facebook.\">Cookies</a></li><li><a class=\"_41ug\" data-nocookies=\"1\" href=\"https://www.facebook.com/help/568137493302217\" title=\"En savoir plus sur Choisir sa publicité.\">Choisir sa publicité<i class=\"img sp_h4Swrc8tiWJ sx_22044a\"></i></a></li><li><a accesskey=\"9\" data-nocookies=\"1\" href=\"/policies?ref=pf\" title=\"Prenez connaissance des conditions générales et des règlements.\">Conditions générales</a></li><li><a accesskey=\"0\" href=\"/help/?ref=pf\" title=\"Consultez les pages d’aide.\">Aide</a></li><li><a href=\"help/637205020878504\" title=\"Consultez notre avis sur l’importation des contacts et les non-utilisateurs.\">Importation des contacts et non-utilisateurs</a></li><li><a accesskey=\"6\" class=\"accessible_elem\" href=\"/settings\" title=\"Affichez et modifiez vos paramètres Facebook.\">Paramètres</a></li><li><a accesskey=\"7\" class=\"accessible_elem\" href=\"/allactivity?privacy_source=activity_log_top_menu\" title=\"Affichez votre Historique d’activité\">Historique d’activité</a></li></ul></div><div class=\"mvl copyright\"><div><span> Meta © 2023</span></div></div></div></div></div></div><div></div><span><img height=\"0\" src=\"https://facebook.com/security/hsts-pixel.gif?c=3.2.5\" style=\"display:none\" width=\"0\"/></span></div><div style=\"display:none\"></div>\n",
            "<script>requireLazy([\"HasteSupportData\"],function(m){m.handle({\"bxData\":{\"875231\":{\"uri\":\"https:\\/\\/static.xx.fbcdn.net\\/rsrc.php\\/yD\\/r\\/d4ZIVX-5C-b.ico\"}}})});requireLazy([\"Bootloader\"],function(m){m.handlePayload({\"consistency\":{\"rev\":1006985430},\"rsrcMap\":{\"2elujRy\":{\"type\":\"js\",\"src\":\"https:\\/\\/static.xx.fbcdn.net\\/rsrc.php\\/v3\\/y7\\/r\\/O9-2QgHM2o2.js?_nc_x=Ij3Wp8lg5Kz\",\"nc\":1},\"FNSYTIu\":{\"type\":\"js\",\"src\":\"https:\\/\\/static.xx.fbcdn.net\\/rsrc.php\\/v3\\/yX\\/r\\/zPOfjtjsg3r.js?_nc_x=Ij3Wp8lg5Kz\",\"nc\":1},\"IxYjpFJ\":{\"type\":\"js\",\"src\":\"https:\\/\\/static.xx.fbcdn.net\\/rsrc.php\\/v3\\/y8\\/r\\/yiNp03LfwiL.js?_nc_x=Ij3Wp8lg5Kz\",\"nc\":1},\"Wr9euj2\":{\"type\":\"js\",\"src\":\"https:\\/\\/static.xx.fbcdn.net\\/rsrc.php\\/v3\\/yu\\/r\\/kePGgejgCAO.js?_nc_x=Ij3Wp8lg5Kz\",\"nc\":1},\"f2c\\/BF4\":{\"type\":\"js\",\"src\":\"https:\\/\\/static.xx.fbcdn.net\\/rsrc.php\\/v3\\/yt\\/r\\/Suv3WEwztvy.js?_nc_x=Ij3Wp8lg5Kz\",\"nc\":1},\"5p9Jgd9\":{\"type\":\"js\",\"src\":\"https:\\/\\/static.xx.fbcdn.net\\/rsrc.php\\/v3\\/yg\\/r\\/7x0wxebSNxQ.js?_nc_x=Ij3Wp8lg5Kz\",\"nc\":1},\"xa5J6KM\":{\"type\":\"js\",\"src\":\"https:\\/\\/static.xx.fbcdn.net\\/rsrc.php\\/v3\\/yv\\/r\\/T329mvQIyfn.js?_nc_x=Ij3Wp8lg5Kz\",\"nc\":1},\"kAC1YsU\":{\"type\":\"js\",\"src\":\"https:\\/\\/static.xx.fbcdn.net\\/rsrc.php\\/v3\\/yC\\/r\\/SrHlp8k6rS-.js?_nc_x=Ij3Wp8lg5Kz\",\"nc\":1},\"QbAnh9G\":{\"type\":\"js\",\"src\":\"https:\\/\\/static.xx.fbcdn.net\\/rsrc.php\\/v3\\/y-\\/r\\/zAxwnmpJ8J1.js?_nc_x=Ij3Wp8lg5Kz\",\"nc\":1},\"IR73PJe\":{\"type\":\"js\",\"src\":\"https:\\/\\/static.xx.fbcdn.net\\/rsrc.php\\/v3iilj4\\/yd\\/l\\/fr_FR\\/fbS8fd71jr5.js?_nc_x=Ij3Wp8lg5Kz\",\"nc\":1},\"iqaNd7v\":{\"type\":\"js\",\"src\":\"https:\\/\\/static.xx.fbcdn.net\\/rsrc.php\\/v3\\/y9\\/r\\/0sm6BuV2M9-.js?_nc_x=Ij3Wp8lg5Kz\",\"nc\":1},\"qJBkJlB\":{\"type\":\"js\",\"src\":\"https:\\/\\/static.xx.fbcdn.net\\/rsrc.php\\/v3\\/yc\\/r\\/mAuO7x05szh.js?_nc_x=Ij3Wp8lg5Kz\",\"nc\":1},\"foz7nw7\":{\"type\":\"js\",\"src\":\"https:\\/\\/static.xx.fbcdn.net\\/rsrc.php\\/v3iTOp4\\/yn\\/l\\/fr_FR\\/6TOSlR_jFnZ.js?_nc_x=Ij3Wp8lg5Kz\",\"nc\":1},\"D\\/Xc4dr\":{\"type\":\"js\",\"src\":\"https:\\/\\/static.xx.fbcdn.net\\/rsrc.php\\/v3\\/yg\\/r\\/cVn2Gwd4mVZ.js?_nc_x=Ij3Wp8lg5Kz\",\"nc\":1},\"R5w1rCJ\":{\"type\":\"js\",\"src\":\"https:\\/\\/static.xx.fbcdn.net\\/rsrc.php\\/v3\\/yF\\/r\\/p55HfXW__mM.js?_nc_x=Ij3Wp8lg5Kz\",\"nc\":1},\"iUAAAtI\":{\"type\":\"js\",\"src\":\"https:\\/\\/static.xx.fbcdn.net\\/rsrc.php\\/v3i_uz4\\/yB\\/l\\/fr_FR\\/zLgLOjsPHO7.js?_nc_x=Ij3Wp8lg5Kz\",\"nc\":1},\"yfIo\\/\\/y\":{\"type\":\"js\",\"src\":\"https:\\/\\/static.xx.fbcdn.net\\/rsrc.php\\/v3\\/y9\\/r\\/gEMM624f_NI.js?_nc_x=Ij3Wp8lg5Kz\",\"nc\":1},\"sNxWITd\":{\"type\":\"css\",\"src\":\"https:\\/\\/static.xx.fbcdn.net\\/rsrc.php\\/v3\\/yU\\/l\\/0,cross\\/X-47LskmyqZ.css?_nc_x=Ij3Wp8lg5Kz\",\"nc\":1},\"CGkH4FY\":{\"type\":\"js\",\"src\":\"https:\\/\\/static.xx.fbcdn.net\\/rsrc.php\\/v3\\/yZ\\/r\\/x4Eyp9nQ1uk.js?_nc_x=Ij3Wp8lg5Kz\",\"nc\":1},\"oJG55U1\":{\"type\":\"js\",\"src\":\"https:\\/\\/static.xx.fbcdn.net\\/rsrc.php\\/v3\\/y0\\/r\\/1AOTRsyzR7C.js?_nc_x=Ij3Wp8lg5Kz\",\"nc\":1},\"Yv2Rq7N\":{\"type\":\"js\",\"src\":\"https:\\/\\/static.xx.fbcdn.net\\/rsrc.php\\/v3\\/yb\\/r\\/CDBWqeRf5qh.js?_nc_x=Ij3Wp8lg5Kz\",\"nc\":1},\"ySeW7Hg\":{\"type\":\"js\",\"src\":\"https:\\/\\/static.xx.fbcdn.net\\/rsrc.php\\/v3\\/yy\\/r\\/ATcu0XgUDfP.js?_nc_x=Ij3Wp8lg5Kz\",\"nc\":1},\"Ufq6YWX\":{\"type\":\"js\",\"src\":\"https:\\/\\/static.xx.fbcdn.net\\/rsrc.php\\/v3\\/yj\\/r\\/-jY7SqbZSzy.js?_nc_x=Ij3Wp8lg5Kz\",\"nc\":1},\"N43QL\\/K\":{\"type\":\"js\",\"src\":\"https:\\/\\/static.xx.fbcdn.net\\/rsrc.php\\/v3\\/yB\\/r\\/NjJD7ayuJs6.js?_nc_x=Ij3Wp8lg5Kz\",\"nc\":1},\"J8bA\\/bj\":{\"type\":\"js\",\"src\":\"https:\\/\\/static.xx.fbcdn.net\\/rsrc.php\\/v3ibup4\\/yE\\/l\\/fr_FR\\/Z0ahQbCEiOl.js?_nc_x=Ij3Wp8lg5Kz\",\"nc\":1},\"jFE2rmn\":{\"type\":\"js\",\"src\":\"https:\\/\\/static.xx.fbcdn.net\\/rsrc.php\\/v3i6Zu4\\/ys\\/l\\/fr_FR\\/8jcmh8OgI-J.js?_nc_x=Ij3Wp8lg5Kz\",\"nc\":1},\"tqMhCU8\":{\"type\":\"js\",\"src\":\"https:\\/\\/static.xx.fbcdn.net\\/rsrc.php\\/v3iwYQ4\\/yj\\/l\\/fr_FR\\/hBuqesjUIqr.js?_nc_x=Ij3Wp8lg5Kz\",\"nc\":1},\"QH5Qzrr\":{\"type\":\"js\",\"src\":\"https:\\/\\/static.xx.fbcdn.net\\/rsrc.php\\/v3\\/yp\\/r\\/DrbllrSz-Y8.js?_nc_x=Ij3Wp8lg5Kz\",\"nc\":1},\"W+LihQR\":{\"type\":\"css\",\"src\":\"https:\\/\\/static.xx.fbcdn.net\\/rsrc.php\\/v3\\/yN\\/l\\/0,cross\\/BkhAxOfQzEU.css?_nc_x=Ij3Wp8lg5Kz\",\"nc\":1},\"gHF6sO3\":{\"type\":\"js\",\"src\":\"https:\\/\\/static.xx.fbcdn.net\\/rsrc.php\\/v3\\/yV\\/r\\/2wg3jacM6Aw.js?_nc_x=Ij3Wp8lg5Kz\",\"nc\":1},\"9Zir1u8\":{\"type\":\"js\",\"src\":\"https:\\/\\/static.xx.fbcdn.net\\/rsrc.php\\/v3i1dc4\\/yJ\\/l\\/fr_FR\\/eE26xMCZs_F.js?_nc_x=Ij3Wp8lg5Kz\",\"nc\":1},\"JuWZXvj\":{\"type\":\"js\",\"src\":\"https:\\/\\/static.xx.fbcdn.net\\/rsrc.php\\/v3\\/yS\\/r\\/52_Wk_k5m8I.js?_nc_x=Ij3Wp8lg5Kz\",\"nc\":1},\"34iux7+\":{\"type\":\"js\",\"src\":\"https:\\/\\/static.xx.fbcdn.net\\/rsrc.php\\/v3\\/yM\\/r\\/LHrMAYWkstl.js?_nc_x=Ij3Wp8lg5Kz\",\"nc\":1},\"Mtv7qD+\":{\"type\":\"js\",\"src\":\"https:\\/\\/static.xx.fbcdn.net\\/rsrc.php\\/v3\\/yf\\/r\\/4XbK1HP1GLb.js?_nc_x=Ij3Wp8lg5Kz\",\"nc\":1},\"wcYt\\/nU\":{\"type\":\"js\",\"src\":\"https:\\/\\/static.xx.fbcdn.net\\/rsrc.php\\/v3\\/yk\\/r\\/xPPN1jcMZSf.js?_nc_x=Ij3Wp8lg5Kz\",\"nc\":1},\"vz8Edsr\":{\"type\":\"js\",\"src\":\"https:\\/\\/static.xx.fbcdn.net\\/rsrc.php\\/v3i4Jo4\\/yu\\/l\\/fr_FR\\/62ORkRdLvLv.js?_nc_x=Ij3Wp8lg5Kz\",\"nc\":1},\"EwKsSrH\":{\"type\":\"js\",\"src\":\"https:\\/\\/static.xx.fbcdn.net\\/rsrc.php\\/v3\\/yt\\/r\\/fu0HzUadWDw.js?_nc_x=Ij3Wp8lg5Kz\",\"nc\":1},\"z\\/AOMBm\":{\"type\":\"css\",\"src\":\"https:\\/\\/static.xx.fbcdn.net\\/rsrc.php\\/v3\\/yG\\/l\\/0,cross\\/XVU2uLYFdRW.css?_nc_x=Ij3Wp8lg5Kz\",\"nc\":1},\"FJvGK\\/j\":{\"type\":\"css\",\"src\":\"https:\\/\\/static.xx.fbcdn.net\\/rsrc.php\\/v3\\/y7\\/l\\/0,cross\\/ZusQNlBeBrd.css?_nc_x=Ij3Wp8lg5Kz\",\"nc\":1},\"wzs1q2C\":{\"type\":\"css\",\"src\":\"https:\\/\\/static.xx.fbcdn.net\\/rsrc.php\\/v3\\/yx\\/l\\/0,cross\\/mPpUJGycqYt.css?_nc_x=Ij3Wp8lg5Kz\",\"nc\":1},\"GpQFBwL\":{\"type\":\"js\",\"src\":\"https:\\/\\/static.xx.fbcdn.net\\/rsrc.php\\/v3\\/yI\\/r\\/C3CnmLDYuAn.js?_nc_x=Ij3Wp8lg5Kz\",\"nc\":1},\"B1EnAlM\":{\"type\":\"js\",\"src\":\"https:\\/\\/static.xx.fbcdn.net\\/rsrc.php\\/v3i-V_4\\/yf\\/l\\/fr_FR\\/p2NgqBb5ytx.js?_nc_x=Ij3Wp8lg5Kz\",\"nc\":1},\"D4\\/68lR\":{\"type\":\"js\",\"src\":\"https:\\/\\/static.xx.fbcdn.net\\/rsrc.php\\/v3iAUN4\\/yx\\/l\\/fr_FR\\/Gjoije3-wa9.js?_nc_x=Ij3Wp8lg5Kz\",\"nc\":1},\"UNkXFSY\":{\"type\":\"js\",\"src\":\"https:\\/\\/static.xx.fbcdn.net\\/rsrc.php\\/v3\\/y8\\/r\\/UjyxvbiarSr.js?_nc_x=Ij3Wp8lg5Kz\",\"nc\":1},\"EhXcZrS\":{\"type\":\"js\",\"src\":\"https:\\/\\/static.xx.fbcdn.net\\/rsrc.php\\/v3\\/yg\\/r\\/DGYLcNWDp4S.js?_nc_x=Ij3Wp8lg5Kz\",\"nc\":1},\"Uqmh+wj\":{\"type\":\"js\",\"src\":\"https:\\/\\/static.xx.fbcdn.net\\/rsrc.php\\/v3iek84\\/yl\\/l\\/fr_FR\\/YDo_fvwPUxU.js?_nc_x=Ij3Wp8lg5Kz\",\"nc\":1},\"Ez61A3Q\":{\"type\":\"js\",\"src\":\"https:\\/\\/static.xx.fbcdn.net\\/rsrc.php\\/v3\\/yE\\/r\\/8Jif0mcj8zW.js?_nc_x=Ij3Wp8lg5Kz\",\"nc\":1},\"TwjK0ZY\":{\"type\":\"js\",\"src\":\"https:\\/\\/static.xx.fbcdn.net\\/rsrc.php\\/v3\\/yk\\/r\\/ECvkBluUv4I.js?_nc_x=Ij3Wp8lg5Kz\",\"nc\":1},\"Lifwvyt\":{\"type\":\"js\",\"src\":\"https:\\/\\/static.xx.fbcdn.net\\/rsrc.php\\/v3\\/yk\\/r\\/BPWq2bfUgRS.js?_nc_x=Ij3Wp8lg5Kz\",\"nc\":1},\"Dq9oHgH\":{\"type\":\"js\",\"src\":\"https:\\/\\/static.xx.fbcdn.net\\/rsrc.php\\/v3i1cs4\\/yw\\/l\\/fr_FR\\/lZ6eRqXMoVP.js?_nc_x=Ij3Wp8lg5Kz\",\"nc\":1},\"1rzP\\/pQ\":{\"type\":\"js\",\"src\":\"https:\\/\\/static.xx.fbcdn.net\\/rsrc.php\\/v3\\/yA\\/r\\/diZzghUeHwm.js?_nc_x=Ij3Wp8lg5Kz\",\"nc\":1},\"8muJVTj\":{\"type\":\"css\",\"src\":\"https:\\/\\/static.xx.fbcdn.net\\/rsrc.php\\/v3\\/y4\\/l\\/0,cross\\/j-rsW5ygLpn.css?_nc_x=Ij3Wp8lg5Kz\",\"nc\":1},\"kOEHvpu\":{\"type\":\"js\",\"src\":\"https:\\/\\/static.xx.fbcdn.net\\/rsrc.php\\/v3\\/yp\\/r\\/p6pF4ndmWJ4.js?_nc_x=Ij3Wp8lg5Kz\",\"nc\":1},\"N7Y+KDc\":{\"type\":\"css\",\"src\":\"https:\\/\\/static.xx.fbcdn.net\\/rsrc.php\\/v3\\/yM\\/l\\/0,cross\\/hSY9XZfGll2.css?_nc_x=Ij3Wp8lg5Kz\",\"nc\":1},\"mO2RUoG\":{\"type\":\"js\",\"src\":\"https:\\/\\/static.xx.fbcdn.net\\/rsrc.php\\/v3\\/yU\\/r\\/q2fdyVrIGxF.js?_nc_x=Ij3Wp8lg5Kz\",\"nc\":1},\"LbcmkCr\":{\"type\":\"js\",\"src\":\"https:\\/\\/static.xx.fbcdn.net\\/rsrc.php\\/v3i_q74\\/yT\\/l\\/fr_FR\\/PEBV_dpipgc.js?_nc_x=Ij3Wp8lg5Kz\",\"nc\":1},\"pVj2Lxt\":{\"type\":\"js\",\"src\":\"https:\\/\\/static.xx.fbcdn.net\\/rsrc.php\\/v3\\/yJ\\/r\\/LATESN42W6R.js?_nc_x=Ij3Wp8lg5Kz\",\"nc\":1},\"l3W9bV0\":{\"type\":\"js\",\"src\":\"https:\\/\\/static.xx.fbcdn.net\\/rsrc.php\\/v3imCk4\\/yv\\/l\\/fr_FR\\/c9r1QLf1QTt.js?_nc_x=Ij3Wp8lg5Kz\",\"nc\":1},\"34mCFBw\":{\"type\":\"js\",\"src\":\"https:\\/\\/static.xx.fbcdn.net\\/rsrc.php\\/v3\\/yK\\/r\\/JQEMc8oohwf.js?_nc_x=Ij3Wp8lg5Kz\",\"nc\":1},\"10t5RN0\":{\"type\":\"js\",\"src\":\"https:\\/\\/static.xx.fbcdn.net\\/rsrc.php\\/v3ijrf4\\/yw\\/l\\/fr_FR\\/fDFe4Cg7Zq9.js?_nc_x=Ij3Wp8lg5Kz\",\"nc\":1},\"AMs2Te\\/\":{\"type\":\"js\",\"src\":\"https:\\/\\/static.xx.fbcdn.net\\/rsrc.php\\/v3\\/yj\\/r\\/jUlO7sF-_vn.js?_nc_x=Ij3Wp8lg5Kz\",\"nc\":1},\"xGBMw4K\":{\"type\":\"js\",\"src\":\"https:\\/\\/static.xx.fbcdn.net\\/rsrc.php\\/v3ingO4\\/yr\\/l\\/fr_FR\\/c4iiMvi09cx.js?_nc_x=Ij3Wp8lg5Kz\",\"nc\":1},\"3QYrQGe\":{\"type\":\"js\",\"src\":\"https:\\/\\/static.xx.fbcdn.net\\/rsrc.php\\/v3\\/y7\\/r\\/qJItWn24Qd9.js?_nc_x=Ij3Wp8lg5Kz\",\"nc\":1},\"6KJTNZm\":{\"type\":\"js\",\"src\":\"https:\\/\\/static.xx.fbcdn.net\\/rsrc.php\\/v3ikQ04\\/yr\\/l\\/fr_FR\\/n4kJyIcKAP4.js?_nc_x=Ij3Wp8lg5Kz\",\"nc\":1},\"oMPuOo1\":{\"type\":\"js\",\"src\":\"https:\\/\\/static.xx.fbcdn.net\\/rsrc.php\\/v3icU54\\/yx\\/l\\/fr_FR\\/zGD747TUos7.js?_nc_x=Ij3Wp8lg5Kz\",\"nc\":1},\"yPvyhva\":{\"type\":\"js\",\"src\":\"https:\\/\\/static.xx.fbcdn.net\\/rsrc.php\\/v3\\/yW\\/r\\/TzSF3MQT0X0.js?_nc_x=Ij3Wp8lg5Kz\",\"nc\":1},\"3mc6ybv\":{\"type\":\"js\",\"src\":\"https:\\/\\/static.xx.fbcdn.net\\/rsrc.php\\/v3\\/yM\\/r\\/SfGe1v4Xj7F.js?_nc_x=Ij3Wp8lg5Kz\",\"nc\":1},\"2P4pqnZ\":{\"type\":\"js\",\"src\":\"https:\\/\\/static.xx.fbcdn.net\\/rsrc.php\\/v3ihdO4\\/yC\\/l\\/fr_FR\\/sBncHH02UbS.js?_nc_x=Ij3Wp8lg5Kz\",\"nc\":1},\"64yJWkL\":{\"type\":\"js\",\"src\":\"https:\\/\\/static.xx.fbcdn.net\\/rsrc.php\\/v3\\/yi\\/r\\/SIZWDoCcpSq.js?_nc_x=Ij3Wp8lg5Kz\",\"nc\":1},\"O6KyEcj\":{\"type\":\"css\",\"src\":\"https:\\/\\/static.xx.fbcdn.net\\/rsrc.php\\/v3\\/yR\\/l\\/0,cross\\/0GrCosMjQfm.css?_nc_x=Ij3Wp8lg5Kz\",\"nc\":1},\"hS3R3aX\":{\"type\":\"js\",\"src\":\"https:\\/\\/static.xx.fbcdn.net\\/rsrc.php\\/v3\\/yi\\/r\\/KO2LwTYFFa2.js?_nc_x=Ij3Wp8lg5Kz\",\"nc\":1},\"pzzowf\\/\":{\"type\":\"js\",\"src\":\"https:\\/\\/static.xx.fbcdn.net\\/rsrc.php\\/v3\\/yd\\/r\\/iJSxvpxt-Hg.js?_nc_x=Ij3Wp8lg5Kz\",\"nc\":1},\"0aqEuDi\":{\"type\":\"css\",\"src\":\"https:\\/\\/static.xx.fbcdn.net\\/rsrc.php\\/v3\\/yR\\/l\\/0,cross\\/d-TlD24TysV.css?_nc_x=Ij3Wp8lg5Kz\",\"nc\":1},\"nNxjF+N\":{\"type\":\"js\",\"src\":\"https:\\/\\/static.xx.fbcdn.net\\/rsrc.php\\/v3iek84\\/yf\\/l\\/fr_FR\\/3SaZq_3pfOA.js?_nc_x=Ij3Wp8lg5Kz\",\"nc\":1},\"nFZzjo+\":{\"type\":\"css\",\"src\":\"https:\\/\\/static.xx.fbcdn.net\\/rsrc.php\\/v3\\/yT\\/l\\/0,cross\\/GRph0-v26Al.css?_nc_x=Ij3Wp8lg5Kz\",\"nc\":1},\"ZWEMkW2\":{\"type\":\"css\",\"src\":\"https:\\/\\/static.xx.fbcdn.net\\/rsrc.php\\/v3\\/yv\\/l\\/0,cross\\/k1C5rygMBpE.css?_nc_x=Ij3Wp8lg5Kz\",\"nc\":1},\"3t69dPO\":{\"type\":\"js\",\"src\":\"https:\\/\\/static.xx.fbcdn.net\\/rsrc.php\\/v3\\/yY\\/r\\/V-f-5J1GTPN.js?_nc_x=Ij3Wp8lg5Kz\",\"nc\":1},\"QT\\/5i5G\":{\"type\":\"css\",\"src\":\"https:\\/\\/static.xx.fbcdn.net\\/rsrc.php\\/v3\\/yK\\/l\\/0,cross\\/T655EyBh71C.css?_nc_x=Ij3Wp8lg5Kz\",\"nc\":1},\"W8oO7Kw\":{\"type\":\"js\",\"src\":\"https:\\/\\/static.xx.fbcdn.net\\/rsrc.php\\/v3i4_f4\\/yg\\/l\\/fr_FR\\/UCoYaOsKAmy.js?_nc_x=Ij3Wp8lg5Kz\",\"nc\":1},\"xRdbF07\":{\"type\":\"js\",\"src\":\"https:\\/\\/static.xx.fbcdn.net\\/rsrc.php\\/v3\\/yj\\/r\\/J-Jf-gVWo1l.js?_nc_x=Ij3Wp8lg5Kz\",\"nc\":1},\"RwNGFt8\":{\"type\":\"js\",\"src\":\"https:\\/\\/static.xx.fbcdn.net\\/rsrc.php\\/v3\\/yR\\/r\\/NTBXcpfVOaa.js?_nc_x=Ij3Wp8lg5Kz\",\"nc\":1},\"UVW8S\\/i\":{\"type\":\"js\",\"src\":\"https:\\/\\/static.xx.fbcdn.net\\/rsrc.php\\/v3\\/yj\\/r\\/bcO60qrUPdK.js?_nc_x=Ij3Wp8lg5Kz\",\"nc\":1},\"gWMJgTe\":{\"type\":\"js\",\"src\":\"https:\\/\\/static.xx.fbcdn.net\\/rsrc.php\\/v3\\/yH\\/r\\/iGksp69foR_.js?_nc_x=Ij3Wp8lg5Kz\",\"nc\":1},\"hIek+bG\":{\"type\":\"js\",\"src\":\"https:\\/\\/static.xx.fbcdn.net\\/rsrc.php\\/v3\\/yY\\/r\\/DZ_VBlsy-dC.js?_nc_x=Ij3Wp8lg5Kz\",\"nc\":1},\"L\\/776GI\":{\"type\":\"js\",\"src\":\"https:\\/\\/static.xx.fbcdn.net\\/rsrc.php\\/v3\\/yT\\/r\\/xG_EJiZa-w-.js?_nc_x=Ij3Wp8lg5Kz\",\"nc\":1},\"LR1ye2\\/\":{\"type\":\"css\",\"src\":\"https:\\/\\/static.xx.fbcdn.net\\/rsrc.php\\/v3\\/ye\\/l\\/0,cross\\/zk7efqTq6UP.css?_nc_x=Ij3Wp8lg5Kz\",\"nc\":1},\"9KXRHFb\":{\"type\":\"js\",\"src\":\"https:\\/\\/static.xx.fbcdn.net\\/rsrc.php\\/v3iIt14\\/yx\\/l\\/fr_FR\\/A1YxKPV1lrP.js?_nc_x=Ij3Wp8lg5Kz\",\"nc\":1},\"eaNBXob\":{\"type\":\"js\",\"src\":\"https:\\/\\/static.xx.fbcdn.net\\/rsrc.php\\/v3inoP4\\/yg\\/l\\/fr_FR\\/BVNoFLB1KN7.js?_nc_x=Ij3Wp8lg5Kz\",\"nc\":1},\"Xm0Rh4R\":{\"type\":\"js\",\"src\":\"https:\\/\\/static.xx.fbcdn.net\\/rsrc.php\\/v3ibbR4\\/y3\\/l\\/fr_FR\\/8cXqTwt1vl7.js?_nc_x=Ij3Wp8lg5Kz\",\"nc\":1},\"8ELCBwH\":{\"type\":\"js\",\"src\":\"https:\\/\\/static.xx.fbcdn.net\\/rsrc.php\\/v3\\/ye\\/r\\/VRzSVH5iU-V.js?_nc_x=Ij3Wp8lg5Kz\",\"nc\":1},\"jCCrZek\":{\"type\":\"js\",\"src\":\"https:\\/\\/static.xx.fbcdn.net\\/rsrc.php\\/v3\\/yl\\/r\\/-P1OKU4Rxza.js?_nc_x=Ij3Wp8lg5Kz\",\"nc\":1},\"x22Oby4\":{\"type\":\"js\",\"src\":\"https:\\/\\/static.xx.fbcdn.net\\/rsrc.php\\/v3\\/yZ\\/r\\/tVshp1OIV9l.js?_nc_x=Ij3Wp8lg5Kz\",\"nc\":1},\"SWx3yNv\":{\"type\":\"js\",\"src\":\"https:\\/\\/static.xx.fbcdn.net\\/rsrc.php\\/v3\\/y7\\/r\\/g__eV5OXSXl.js?_nc_x=Ij3Wp8lg5Kz\",\"nc\":1},\"oE4DofT\":{\"type\":\"js\",\"src\":\"https:\\/\\/static.xx.fbcdn.net\\/rsrc.php\\/v3\\/yJ\\/r\\/EejAgnHUad4.js?_nc_x=Ij3Wp8lg5Kz\",\"nc\":1},\"VvVFw8n\":{\"type\":\"js\",\"src\":\"https:\\/\\/static.xx.fbcdn.net\\/rsrc.php\\/v3\\/yn\\/r\\/AWepvf-vdZG.js?_nc_x=Ij3Wp8lg5Kz\",\"nc\":1},\"Da6rL6k\":{\"type\":\"js\",\"src\":\"https:\\/\\/static.xx.fbcdn.net\\/rsrc.php\\/v3\\/yN\\/r\\/zw9tqRuHqZ_.js?_nc_x=Ij3Wp8lg5Kz\",\"nc\":1},\"\\/rO0lbn\":{\"type\":\"js\",\"src\":\"https:\\/\\/static.xx.fbcdn.net\\/rsrc.php\\/v3\\/yf\\/r\\/LgvwffuKmeX.js?_nc_x=Ij3Wp8lg5Kz\",\"nc\":1},\"P\\/mr5VE\":{\"type\":\"css\",\"src\":\"data:text\\/css; charset=utf-8;base64,I2Jvb3Rsb2FkZXJfUF9tcjVWRXtoZWlnaHQ6NDJweDt9LmJvb3Rsb2FkZXJfUF9tcjVWRXtkaXNwbGF5OmJsb2NrIWltcG9ydGFudDt9\",\"nc\":1,\"d\":1}},\"compMap\":{\"ODS\":{\"r\":[\"2elujRy\"],\"be\":1},\"Dock\":{\"r\":[\"vPyRXjL\",\"FNSYTIu\",\"IxYjpFJ\",\"Wr9euj2\",\"f2c\\/BF4\",\"5p9Jgd9\",\"xa5J6KM\",\"07IiWB\\/\",\"kAC1YsU\",\"QbAnh9G\",\"2elujRy\",\"IR73PJe\"],\"be\":1},\"WebSpeedInteractionsTypedLogger\":{\"r\":[\"iqaNd7v\",\"2elujRy\",\"5p9Jgd9\"],\"rds\":{\"m\":[\"BanzaiScuba_DEPRECATED\"]},\"be\":1},\"AsyncRequest\":{\"r\":[\"qJBkJlB\",\"FNSYTIu\",\"foz7nw7\",\"QbAnh9G\",\"2elujRy\",\"vPyRXjL\"],\"rds\":{\"m\":[\"FbtLogging\",\"IntlQtEventFalcoEvent\"]},\"be\":1},\"DOM\":{\"r\":[\"FNSYTIu\",\"QbAnh9G\",\"vPyRXjL\"],\"be\":1},\"Form\":{\"r\":[\"FNSYTIu\",\"5p9Jgd9\",\"QbAnh9G\",\"2elujRy\",\"vPyRXjL\"],\"be\":1},\"FormSubmit\":{\"r\":[\"qJBkJlB\",\"FNSYTIu\",\"5p9Jgd9\",\"foz7nw7\",\"QbAnh9G\",\"2elujRy\",\"D\\/Xc4dr\",\"vPyRXjL\"],\"rds\":{\"m\":[\"FbtLogging\",\"IntlQtEventFalcoEvent\",\"BanzaiScuba_DEPRECATED\"]},\"be\":1},\"Input\":{\"r\":[\"5p9Jgd9\"],\"be\":1},\"Toggler\":{\"r\":[\"vPyRXjL\",\"FNSYTIu\",\"IxYjpFJ\",\"Wr9euj2\",\"5p9Jgd9\",\"xa5J6KM\",\"07IiWB\\/\",\"QbAnh9G\",\"2elujRy\"],\"be\":1},\"Tooltip\":{\"r\":[\"R5w1rCJ\",\"qJBkJlB\",\"iUAAAtI\",\"vPyRXjL\",\"FNSYTIu\",\"yfIo\\/\\/y\",\"Wr9euj2\",\"f2c\\/BF4\",\"5p9Jgd9\",\"xa5J6KM\",\"foz7nw7\",\"sNxWITd\",\"I4hwzeu\",\"kAC1YsU\",\"QbAnh9G\",\"CGkH4FY\",\"2elujRy\",\"oJG55U1\",\"IR73PJe\",\"Yv2Rq7N\",\"ySeW7Hg\",\"Ufq6YWX\",\"N43QL\\/K\"],\"rds\":{\"m\":[\"FbtLogging\",\"IntlQtEventFalcoEvent\",\"PageTransitions\",\"BanzaiScuba_DEPRECATED\",\"Animation\"],\"r\":[\"J8bA\\/bj\",\"IxYjpFJ\"]},\"be\":1},\"URI\":{\"r\":[],\"be\":1},\"trackReferrer\":{\"r\":[],\"rds\":{\"m\":[\"BanzaiScuba_DEPRECATED\"],\"r\":[\"2elujRy\"]},\"be\":1},\"PhotoTagApproval\":{\"r\":[\"FNSYTIu\",\"jFE2rmn\",\"tqMhCU8\",\"QbAnh9G\",\"vPyRXjL\"],\"be\":1},\"PhotoSnowlift\":{\"r\":[\"QH5Qzrr\",\"W+LihQR\",\"R5w1rCJ\",\"qJBkJlB\",\"iUAAAtI\",\"gHF6sO3\",\"9Zir1u8\",\"JuWZXvj\",\"34iux7+\",\"vPyRXjL\",\"Mtv7qD+\",\"FNSYTIu\",\"wcYt\\/nU\",\"IxYjpFJ\",\"yfIo\\/\\/y\",\"Wr9euj2\",\"f2c\\/BF4\",\"vz8Edsr\",\"EwKsSrH\",\"z\\/AOMBm\",\"FJvGK\\/j\",\"wzs1q2C\",\"5p9Jgd9\",\"xa5J6KM\",\"GpQFBwL\",\"B1EnAlM\",\"D4\\/68lR\",\"foz7nw7\",\"sNxWITd\",\"UNkXFSY\",\"EhXcZrS\",\"Uqmh+wj\",\"Pud6B2Z\",\"Ez61A3Q\",\"TwjK0ZY\",\"Lifwvyt\",\"Dq9oHgH\",\"07IiWB\\/\",\"1rzP\\/pQ\",\"I4hwzeu\",\"8muJVTj\",\"kOEHvpu\",\"N7Y+KDc\",\"tqMhCU8\",\"mO2RUoG\",\"LbcmkCr\",\"kAC1YsU\",\"pVj2Lxt\",\"l3W9bV0\",\"QbAnh9G\",\"34mCFBw\",\"CGkH4FY\",\"2elujRy\",\"oJG55U1\",\"10t5RN0\",\"IR73PJe\",\"AMs2Te\\/\",\"xGBMw4K\",\"ySeW7Hg\",\"3QYrQGe\",\"6KJTNZm\",\"oMPuOo1\",\"yPvyhva\",\"3mc6ybv\",\"2P4pqnZ\",\"64yJWkL\",\"O6KyEcj\",\"Yv2Rq7N\",\"N43QL\\/K\",\"J8bA\\/bj\",\"Ufq6YWX\",\"hS3R3aX\"],\"rds\":{\"m\":[\"Animation\",\"VisualCompletionGating\",\"FbtLogging\",\"IntlQtEventFalcoEvent\",\"BanzaiScuba_DEPRECATED\",\"PageTransitions\"],\"r\":[\"pzzowf\\/\"]},\"be\":1},\"PhotoTagger\":{\"r\":[\"R5w1rCJ\",\"qJBkJlB\",\"0aqEuDi\",\"iUAAAtI\",\"vPyRXjL\",\"FNSYTIu\",\"jFE2rmn\",\"nNxjF+N\",\"IxYjpFJ\",\"yfIo\\/\\/y\",\"Wr9euj2\",\"f2c\\/BF4\",\"vz8Edsr\",\"5p9Jgd9\",\"xa5J6KM\",\"nFZzjo+\",\"foz7nw7\",\"sNxWITd\",\"Dq9oHgH\",\"07IiWB\\/\",\"I4hwzeu\",\"ZWEMkW2\",\"tqMhCU8\",\"mO2RUoG\",\"kAC1YsU\",\"3t69dPO\",\"QbAnh9G\",\"CGkH4FY\",\"2elujRy\",\"oJG55U1\",\"IR73PJe\",\"ySeW7Hg\",\"6KJTNZm\",\"yPvyhva\",\"QT\\/5i5G\",\"Yv2Rq7N\",\"N43QL\\/K\",\"Ufq6YWX\",\"hS3R3aX\"],\"rds\":{\"m\":[\"FbtLogging\",\"IntlQtEventFalcoEvent\",\"BanzaiScuba_DEPRECATED\",\"PageTransitions\",\"Animation\"],\"r\":[\"J8bA\\/bj\"]},\"be\":1},\"PhotoTags\":{\"r\":[\"FNSYTIu\",\"jFE2rmn\",\"5p9Jgd9\",\"tqMhCU8\",\"QbAnh9G\",\"vPyRXjL\"],\"be\":1},\"TagTokenizer\":{\"r\":[\"W+LihQR\",\"vPyRXjL\",\"FNSYTIu\",\"jFE2rmn\",\"5p9Jgd9\",\"W8oO7Kw\",\"xa5J6KM\",\"nFZzjo+\",\"xRdbF07\",\"QbAnh9G\",\"2elujRy\",\"RwNGFt8\",\"UVW8S\\/i\"],\"rds\":{\"m\":[\"FbtLogging\",\"IntlQtEventFalcoEvent\"]},\"be\":1},\"AsyncDialog\":{\"r\":[\"R5w1rCJ\",\"qJBkJlB\",\"iUAAAtI\",\"vPyRXjL\",\"FNSYTIu\",\"IxYjpFJ\",\"yfIo\\/\\/y\",\"Wr9euj2\",\"f2c\\/BF4\",\"z\\/AOMBm\",\"5p9Jgd9\",\"xa5J6KM\",\"foz7nw7\",\"sNxWITd\",\"UNkXFSY\",\"EhXcZrS\",\"Lifwvyt\",\"07IiWB\\/\",\"mO2RUoG\",\"kAC1YsU\",\"l3W9bV0\",\"QbAnh9G\",\"2elujRy\",\"ySeW7Hg\",\"yPvyhva\",\"64yJWkL\",\"Yv2Rq7N\",\"N43QL\\/K\",\"hS3R3aX\"],\"rds\":{\"m\":[\"FbtLogging\",\"IntlQtEventFalcoEvent\"]},\"be\":1},\"Hovercard\":{\"r\":[\"R5w1rCJ\",\"qJBkJlB\",\"0aqEuDi\",\"iUAAAtI\",\"vPyRXjL\",\"FNSYTIu\",\"nNxjF+N\",\"IxYjpFJ\",\"yfIo\\/\\/y\",\"Wr9euj2\",\"f2c\\/BF4\",\"5p9Jgd9\",\"xa5J6KM\",\"nFZzjo+\",\"foz7nw7\",\"sNxWITd\",\"Dq9oHgH\",\"07IiWB\\/\",\"I4hwzeu\",\"kAC1YsU\",\"QbAnh9G\",\"CGkH4FY\",\"2elujRy\",\"oJG55U1\",\"IR73PJe\",\"ySeW7Hg\",\"6KJTNZm\",\"QT\\/5i5G\",\"Yv2Rq7N\",\"Ufq6YWX\",\"N43QL\\/K\"],\"rds\":{\"m\":[\"FbtLogging\",\"IntlQtEventFalcoEvent\",\"BanzaiScuba_DEPRECATED\",\"PageTransitions\",\"Animation\"],\"r\":[\"J8bA\\/bj\"]},\"be\":1},\"XSalesPromoWWWDetailsDialogAsyncController\":{\"r\":[\"gWMJgTe\"],\"be\":1},\"XOfferController\":{\"r\":[\"hIek+bG\"],\"be\":1},\"PerfXSharedFields\":{\"r\":[\"5p9Jgd9\",\"pzzowf\\/\"],\"be\":1},\"KeyEventTypedLogger\":{\"r\":[\"L\\/776GI\",\"2elujRy\",\"5p9Jgd9\"],\"rds\":{\"m\":[\"BanzaiScuba_DEPRECATED\"]},\"be\":1},\"Dialog\":{\"r\":[\"qJBkJlB\",\"iUAAAtI\",\"vPyRXjL\",\"FNSYTIu\",\"IxYjpFJ\",\"Wr9euj2\",\"f2c\\/BF4\",\"wzs1q2C\",\"5p9Jgd9\",\"xa5J6KM\",\"D4\\/68lR\",\"foz7nw7\",\"07IiWB\\/\",\"QbAnh9G\",\"2elujRy\",\"R5w1rCJ\",\"J8bA\\/bj\",\"kAC1YsU\",\"ySeW7Hg\",\"Ufq6YWX\",\"N43QL\\/K\"],\"rds\":{\"m\":[\"FbtLogging\",\"IntlQtEventFalcoEvent\",\"Animation\",\"PageTransitions\",\"BanzaiScuba_DEPRECATED\"]},\"be\":1},\"ExceptionDialog\":{\"r\":[\"R5w1rCJ\",\"qJBkJlB\",\"iUAAAtI\",\"vPyRXjL\",\"FNSYTIu\",\"wcYt\\/nU\",\"IxYjpFJ\",\"yfIo\\/\\/y\",\"Wr9euj2\",\"LR1ye2\\/\",\"f2c\\/BF4\",\"z\\/AOMBm\",\"5p9Jgd9\",\"xa5J6KM\",\"foz7nw7\",\"UNkXFSY\",\"EhXcZrS\",\"Lifwvyt\",\"Dq9oHgH\",\"07IiWB\\/\",\"I4hwzeu\",\"kAC1YsU\",\"l3W9bV0\",\"QbAnh9G\",\"2elujRy\",\"9KXRHFb\",\"eaNBXob\",\"ySeW7Hg\",\"yPvyhva\",\"64yJWkL\",\"Yv2Rq7N\",\"N43QL\\/K\"],\"rds\":{\"m\":[\"FbtLogging\",\"IntlQtEventFalcoEvent\"]},\"be\":1},\"QuickSandSolver\":{\"r\":[\"qJBkJlB\",\"FNSYTIu\",\"Xm0Rh4R\",\"8ELCBwH\",\"jCCrZek\",\"x22Oby4\",\"SWx3yNv\",\"5p9Jgd9\",\"foz7nw7\",\"QbAnh9G\",\"2elujRy\",\"vPyRXjL\"],\"rds\":{\"m\":[\"FbtLogging\",\"IntlQtEventFalcoEvent\"]},\"be\":1},\"ConfirmationDialog\":{\"r\":[\"FNSYTIu\",\"5p9Jgd9\",\"oE4DofT\",\"QbAnh9G\",\"2elujRy\",\"vPyRXjL\"],\"be\":1},\"QPLInspector\":{\"r\":[\"VvVFw8n\"],\"be\":1}}})});</script>\n",
            "<script>requireLazy([\"InitialJSLoader\"], function(InitialJSLoader) {InitialJSLoader.loadOnDOMContentReady([\"foz7nw7\",\"pzzowf\\/\",\"5p9Jgd9\",\"2elujRy\",\"FNSYTIu\",\"EwKsSrH\",\"Da6rL6k\",\"qJBkJlB\",\"QbAnh9G\",\"\\/rO0lbn\",\"P\\/mr5VE\"]);});</script>\n",
            "<script>requireLazy([\"TimeSliceImpl\",\"ServerJS\"],function(TimeSlice,ServerJS){var s=(new ServerJS());s.handle({\"define\":[[\"LinkshimHandlerConfig\",[],{\"supports_meta_referrer\":false,\"default_meta_referrer_policy\":\"default\",\"switched_meta_referrer_policy\":\"origin\",\"non_linkshim_lnfb_mode\":\"ie\",\"link_react_default_hash\":\"AT1LCqMRy3s8x4xfFggKubPOajCxuIe1knFqVzvohdoZYSIB0YKLbz8NkW6hermDKYvEbA8pm4LC-5tuDO9LX89K8-PNwFxXrXuRnsLRa_iPwsy6XReCebucSqjscN8uSIhWflt9o23QMYiJ\",\"untrusted_link_default_hash\":\"AT11oxT4dV5nYn5bR9-YvKky69Avs6xeGPf36hqa8_EsVlUNFn9fTCmomlLM1Whon7i-_Z5j7Fo9XHmEumIQv0_oT8XLLf40Xw92OeETIGRjU_Thpu8tQ_EXNYBIDGJzm4jIjc_4P62tq8zX\",\"linkshim_host\":\"l.facebook.com\",\"linkshim_path\":\"\\/l.php\",\"linkshim_enc_param\":\"h\",\"linkshim_url_param\":\"u\",\"use_rel_no_opener\":false,\"always_use_https\":false,\"onion_always_shim\":true,\"middle_click_requires_event\":false,\"www_safe_js_mode\":\"hover\",\"m_safe_js_mode\":null,\"ghl_param_link_shim\":false,\"click_ids\":[],\"is_linkshim_supported\":true,\"current_domain\":\"facebook.com\",\"blocklisted_domains\":[\"ad.doubleclick.net\",\"ads-encryption-url-example.com\",\"bs.serving-sys.com\",\"ad.atdmt.com\",\"adform.net\",\"ad13.adfarm1.adition.com\",\"ilovemyfreedoms.com\",\"secure.adnxs.com\"],\"is_mobile_device\":false},27]],\"elements\":[[\"__elem_a588f507_0_1_Sb\",\"u_0_1_w6\",1],[\"__elem_a588f507_0_0_wU\",\"globalContainer\",2],[\"__elem_a588f507_0_2_Cr\",\"content\",1],[\"__elem_835c633a_0_0_F+\",\"u_0_2_mm\",1],[\"__elem_9f5fac15_0_0_Q8\",\"passContainer\",1],[\"__elem_558608f3_0_0_xC\",\"pass\",1],[\"__elem_a588f507_0_3_2e\",\"u_0_3_dp\",1],[\"__elem_a588f507_0_4_iG\",\"u_0_4_aU\",1],[\"__elem_45d73b5d_0_0_IY\",\"u_0_5_+u\",1]],\"require\":[[\"ServiceWorkerLoginAndLogout\",\"login\",[],[]],[\"WebPixelRatioDetector\",\"startDetecting\",[],[false]],[\"ScriptPath\",\"set\",[],[\"XIndexReduxController\",\"a1f3c513\",{\"imp_id\":\"1RGvWW05asIX0KtUB\",\"ef_page\":null,\"uri\":\"https:\\/\\/www.facebook.com\\/\"}]],[\"UITinyViewportAction\",\"init\",[],[]],[\"ResetScrollOnUnload\",\"init\",[\"__elem_a588f507_0_0_wU\"],[{\"__m\":\"__elem_a588f507_0_0_wU\"}]],[\"AccessibilityWebVirtualCursorClickLogger\",\"init\",[\"__elem_a588f507_0_0_wU\"],[[{\"__m\":\"__elem_a588f507_0_0_wU\"}]]],[\"KeyboardActivityLogger\",\"init\",[],[]],[\"FocusRing\",\"init\",[],[]],[\"ErrorMessageConsole\",\"listenForUncaughtErrors\",[],[]],[\"HardwareCSS\",\"init\",[],[]],[\"LoginFormController\",\"init\",[\"__elem_835c633a_0_0_F+\",\"__elem_45d73b5d_0_0_IY\"],[{\"__m\":\"__elem_835c633a_0_0_F+\"},{\"__m\":\"__elem_45d73b5d_0_0_IY\"},null,true,{\"pubKey\":{\"publicKey\":\"0562c51fc5be81b8fa44241db37f76a0bfba4f1e90f6912900e0d89829794e0d\",\"keyId\":246}}]],[\"BrowserPrefillLogging\",\"initContactpointFieldLogging\",[],[{\"contactpointFieldID\":\"email\",\"serverPrefill\":\"\"}]],[\"BrowserPrefillLogging\",\"initPasswordFieldLogging\",[],[{\"passwordFieldID\":\"pass\"}]],[\"FocusListener\"],[\"FlipDirectionOnKeypress\"],[\"LoginFormToggle\",\"initToggle\",[\"__elem_a588f507_0_3_2e\",\"__elem_a588f507_0_4_iG\",\"__elem_558608f3_0_0_xC\",\"__elem_9f5fac15_0_0_Q8\"],[{\"__m\":\"__elem_a588f507_0_3_2e\"},{\"__m\":\"__elem_a588f507_0_4_iG\"},{\"__m\":\"__elem_558608f3_0_0_xC\"},{\"__m\":\"__elem_9f5fac15_0_0_Q8\"}]],[\"IntlUtils\"],[\"FBLynx\",\"setupDelegation\",[],[]],[\"RequireDeferredReference\",\"unblock\",[],[[\"BanzaiScuba_DEPRECATED\",\"FbtLogging\",\"IntlQtEventFalcoEvent\"],\"sd\"]],[\"RequireDeferredReference\",\"unblock\",[],[[\"BanzaiScuba_DEPRECATED\",\"FbtLogging\",\"IntlQtEventFalcoEvent\"],\"css\"]],[\"TimeSliceImpl\"],[\"HasteSupportData\"],[\"ServerJS\"],[\"Run\"],[\"InitialJSLoader\"]],\"contexts\":[[{\"__m\":\"__elem_a588f507_0_1_Sb\"},true],[{\"__m\":\"__elem_a588f507_0_2_Cr\"},true]]});requireLazy([\"Run\"],function(Run){Run.onAfterLoad(function(){s.cleanup(TimeSlice)})});});</script>\n",
            "<script>now_inl=(function(){var p=window.performance;return p&&p.now&&p.timing&&p.timing.navigationStart?function(){return p.now()+p.timing.navigationStart}:function(){return new Date().getTime()};})();window.__bigPipeFR=now_inl();</script>\n",
            "<link as=\"style\" href=\"https://static.xx.fbcdn.net/rsrc.php/v3/y4/l/0,cross/ZtwO7u3tI0A.css?_nc_x=Ij3Wp8lg5Kz\" rel=\"preload\"/>\n",
            "<link as=\"style\" href=\"https://static.xx.fbcdn.net/rsrc.php/v3/ys/l/0,cross/xTQXUOjrk9G.css?_nc_x=Ij3Wp8lg5Kz\" rel=\"preload\"/>\n",
            "<link as=\"style\" href=\"https://static.xx.fbcdn.net/rsrc.php/v3/yV/l/0,cross/KxGJ10xTR_J.css?_nc_x=Ij3Wp8lg5Kz\" rel=\"preload\"/>\n",
            "<link as=\"style\" href=\"https://static.xx.fbcdn.net/rsrc.php/v3/yc/l/0,cross/6mgTOVHZSZs.css?_nc_x=Ij3Wp8lg5Kz\" rel=\"preload\"/>\n",
            "<link as=\"script\" href=\"https://static.xx.fbcdn.net/rsrc.php/v3/yc/r/mAuO7x05szh.js?_nc_x=Ij3Wp8lg5Kz\" nonce=\"4Dxwn4rZ\" rel=\"preload\"/>\n",
            "<link as=\"script\" href=\"https://static.xx.fbcdn.net/rsrc.php/v3/yX/r/zPOfjtjsg3r.js?_nc_x=Ij3Wp8lg5Kz\" nonce=\"4Dxwn4rZ\" rel=\"preload\"/>\n",
            "<link as=\"script\" href=\"https://static.xx.fbcdn.net/rsrc.php/v3iTOp4/yn/l/fr_FR/6TOSlR_jFnZ.js?_nc_x=Ij3Wp8lg5Kz\" nonce=\"4Dxwn4rZ\" rel=\"preload\"/>\n",
            "<link as=\"style\" href=\"https://static.xx.fbcdn.net/rsrc.php/v3/y9/l/0,cross/OM_w2erf5Sp.css?_nc_x=Ij3Wp8lg5Kz\" rel=\"preload\"/>\n",
            "<link as=\"script\" href=\"https://static.xx.fbcdn.net/rsrc.php/v3/y-/r/zAxwnmpJ8J1.js?_nc_x=Ij3Wp8lg5Kz\" nonce=\"4Dxwn4rZ\" rel=\"preload\"/>\n",
            "<link as=\"script\" href=\"https://static.xx.fbcdn.net/rsrc.php/v3/y7/r/O9-2QgHM2o2.js?_nc_x=Ij3Wp8lg5Kz\" nonce=\"4Dxwn4rZ\" rel=\"preload\"/>\n",
            "<link as=\"style\" href=\"https://static.xx.fbcdn.net/rsrc.php/v3/yr/l/0,cross/u4xvA0Tw-4L.css?_nc_x=Ij3Wp8lg5Kz\" rel=\"preload\"/>\n",
            "<script>window.__bigPipeCtor=now_inl();requireLazy([\"BigPipe\"],function(BigPipe){define(\"__bigPipe\",[],window.bigPipe=new BigPipe({\"forceFinish\":true,\"config\":{\"flush_pagelets_asap\":true,\"dispatch_pagelet_replayable_actions\":false}}));});</script>\n",
            "<script nonce=\"4Dxwn4rZ\">(function(){var n=now_inl();requireLazy([\"__bigPipe\"],function(bigPipe){bigPipe.beforePageletArrive(\"first_response\",n);})})();</script>\n",
            "<script nonce=\"4Dxwn4rZ\">requireLazy([\"__bigPipe\"],(function(bigPipe){bigPipe.onPageletArrive({displayResources:[\"/uaktyf\",\"vPyRXjL\",\"Pud6B2Z\",\"I4hwzeu\",\"qJBkJlB\",\"FNSYTIu\",\"foz7nw7\",\"07IiWB/\",\"QbAnh9G\",\"2elujRy\",\"Yo2UzOh\",\"P/mr5VE\"],id:\"first_response\",phase:0,last_in_phase:true,tti_phase:0,all_phases:[63],hsrp:{hblp:{consistency:{rev:1006985430}}},allResources:[\"foz7nw7\",\"pzzowf/\",\"5p9Jgd9\",\"2elujRy\",\"FNSYTIu\",\"EwKsSrH\",\"Da6rL6k\",\"qJBkJlB\",\"QbAnh9G\",\"/uaktyf\",\"vPyRXjL\",\"Pud6B2Z\",\"I4hwzeu\",\"07IiWB/\",\"Yo2UzOh\",\"/rO0lbn\",\"P/mr5VE\"]});}));</script>\n",
            "<script>requireLazy([\"__bigPipe\"],function(bigPipe){bigPipe.setPageID(\"7202186335736431502\")});</script><script nonce=\"4Dxwn4rZ\">(function(){var n=now_inl();requireLazy([\"__bigPipe\"],function(bigPipe){bigPipe.beforePageletArrive(\"last_response\",n);})})();</script>\n",
            "<script nonce=\"4Dxwn4rZ\">requireLazy([\"__bigPipe\"],(function(bigPipe){bigPipe.onPageletArrive({displayResources:[\"2elujRy\"],id:\"last_response\",phase:63,last_in_phase:true,the_end:true,jsmods:{define:[[\"TimeSliceInteractionSV\",[],{on_demand_reference_counting:true,on_demand_profiling_counters:true,default_rate:1000,lite_default_rate:100,interaction_to_lite_coinflip:{ADS_INTERFACES_INTERACTION:0,ads_perf_scenario:0,ads_wait_time:0,Event:1},interaction_to_coinflip:{ADS_INTERFACES_INTERACTION:1,ads_perf_scenario:1,ads_wait_time:1,Event:100},enable_heartbeat:true,maxBlockMergeDuration:0,maxBlockMergeDistance:0,enable_banzai_stream:true,user_timing_coinflip:50,banzai_stream_coinflip:0,compression_enabled:true,ref_counting_fix:false,ref_counting_cont_fix:false,also_record_new_timeslice_format:false,force_async_request_tracing_on:false},2609],[\"cr:1642797\",[\"BanzaiBase\"],{__rc:[\"BanzaiBase\",\"Aa3gq2MoXD46uh12KnmQ8lHNOQDIahzmQo5TzsTtAXPeRs9GPB-EqDBjQo2Q8P3l4j1Kt2x2YwNJ68yHH2EfMt1pnW8\"]},-1],[\"cr:1458113\",[],{__rc:[null,\"Aa0FCoYPMkyy0qHAo0o9AHVv2Fylpnx4WMT6CBalV3x43BG02moGqrdyknl1u2P5WRktqavy5HzOOt5ngpf2mthBoVNLJmM\"]},-1],[\"cr:1069930\",[],{__rc:[null,\"Aa3gq2MoXD46uh12KnmQ8lHNOQDIahzmQo5TzsTtAXPeRs9GPB-EqDBjQo2Q8P3l4j1Kt2x2YwNJ68yHH2EfMt1pnW8\"]},-1],[\"cr:1083116\",[\"XAsyncRequest\"],{__rc:[\"XAsyncRequest\",\"Aa3gq2MoXD46uh12KnmQ8lHNOQDIahzmQo5TzsTtAXPeRs9GPB-EqDBjQo2Q8P3l4j1Kt2x2YwNJ68yHH2EfMt1pnW8\"]},-1],[\"cr:1083117\",[],{__rc:[null,\"Aa3gq2MoXD46uh12KnmQ8lHNOQDIahzmQo5TzsTtAXPeRs9GPB-EqDBjQo2Q8P3l4j1Kt2x2YwNJ68yHH2EfMt1pnW8\"]},-1],[\"BanzaiConfig\",[],{MAX_SIZE:10000,MAX_WAIT:150000,MIN_WAIT:null,RESTORE_WAIT:150000,blacklist:[\"time_spent\"],disabled:false,gks:{boosted_pagelikes:true,mercury_send_error_logging:true,platform_oauth_client_events:true,graphexplorer:true,sticker_search_ranking:true},known_routes:[\"artillery_javascript_actions\",\"artillery_javascript_trace\",\"artillery_logger_data\",\"logger\",\"falco\",\"gk2_exposure\",\"js_error_logging\",\"loom_trace\",\"marauder\",\"perfx_custom_logger_endpoint\",\"qex\",\"require_cond_exposure_logging\"],should_drop_unknown_routes:true,should_log_unknown_routes:false},7],[\"cr:692209\",[\"cancelIdleCallbackBlue\"],{__rc:[\"cancelIdleCallbackBlue\",\"Aa3gq2MoXD46uh12KnmQ8lHNOQDIahzmQo5TzsTtAXPeRs9GPB-EqDBjQo2Q8P3l4j1Kt2x2YwNJ68yHH2EfMt1pnW8\"]},-1],[\"TrackingConfig\",[],{domain:\"https://pixel.facebook.com\"},325],[\"WebDevicePerfInfoData\",[],{needsFullUpdate:true,needsPartialUpdate:false,shouldLogResourcePerf:false},3977],[\"WebStorageMonsterLoggingURI\",[],{uri:\"/ajax/webstorage/process_keys/?state=1\"},3032],[\"BrowserPaymentHandlerConfig\",[],{enabled:false},3904],[\"TimeSpentConfig\",[],{delay:1000,timeout:64,\"0_delay\":0,\"0_timeout\":8},142],[\"cr:1634616\",[\"UserActivityBlue\"],{__rc:[\"UserActivityBlue\",\"Aa3gq2MoXD46uh12KnmQ8lHNOQDIahzmQo5TzsTtAXPeRs9GPB-EqDBjQo2Q8P3l4j1Kt2x2YwNJ68yHH2EfMt1pnW8\"]},-1],[\"cr:1353359\",[\"EventListenerImplForBlue\"],{__rc:[\"EventListenerImplForBlue\",\"Aa27CmALYGVjG_xqZ7Lg9ddoQap2pLNtzZ-1zhOgGhO0iY_C3MP2G0nSVyHZD2ciuhnJAYfF4GTY0RLB05vUGH2gbfB05A21Kg\"]},-1],[\"cr:844180\",[\"TimeSpentImmediateActiveSecondsLoggerBlue\"],{__rc:[\"TimeSpentImmediateActiveSecondsLoggerBlue\",\"Aa3gq2MoXD46uh12KnmQ8lHNOQDIahzmQo5TzsTtAXPeRs9GPB-EqDBjQo2Q8P3l4j1Kt2x2YwNJ68yHH2EfMt1pnW8\"]},-1],[\"cr:1187159\",[\"BlueCompatBroker\"],{__rc:[\"BlueCompatBroker\",\"Aa3gq2MoXD46uh12KnmQ8lHNOQDIahzmQo5TzsTtAXPeRs9GPB-EqDBjQo2Q8P3l4j1Kt2x2YwNJ68yHH2EfMt1pnW8\"]},-1],[\"ImmediateActiveSecondsConfig\",[],{sampling_rate:0},423]],require:[[\"BDClientSignalCollectionTrigger\",\"startSignalCollection\",[],[{sc:\"{\\\"t\\\":1659080345,\\\"c\\\":[[30000,838801],[30001,838801],[30002,838801],[30003,838801],[30004,838801],[30005,838801],[30006,573585],[30007,838801],[30008,838801],[30012,838801],[30013,838801],[30015,806033],[30018,806033],[30021,540823],[30022,540817],[30040,806033],[30093,806033],[30094,806033],[30095,806033],[30101,541591],[30102,541591],[30103,541591],[30104,541591],[30106,806039],[30107,806039],[38000,541427],[38001,806643]]}\",fds:60,fda:60,i:60,sbs:1,dbs:100,bbs:100,hbi:60,rt:262144,hbcbc:2,hbvbc:0,hbbi:30,sid:-1,hbv:\"68556781495350107\"}]],[\"NavigationMetrics\",\"setPage\",[],[{page:\"XIndexReduxController\",page_type:\"normal\",page_uri:\"https://www.facebook.com/\",serverLID:\"7202186335736431502\"}]],[\"FalcoLoggerTransports\",\"attach\",[],[]],[\"DimensionTracking\"],[\"ClickRefLogger\"],[\"DetectBrokenProxyCache\",\"run\",[],[0,\"c_user\"]],[\"NavigationClickPointHandler\"],[\"WebDevicePerfInfoLogging\",\"doLog\",[],[]],[\"WebStorageMonster\",\"schedule\",[],[]],[\"Artillery\",\"disable\",[],[]],[\"ScriptPathLogger\",\"startLogging\",[],[]],[\"TimeSpentBitArrayLogger\",\"init\",[],[]],[\"CookieCore\",\"setWithoutChecksIfFirstPartyContext\",[],[\"_js_datr\",\"UE7zY_ycojP3RB_do8Vz6b0m\",63072000000,\"/\",true]]]},hsrp:{hsdp:{clpData:{\"1743095\":{r:1,s:1},\"1871697\":{r:1,s:1},\"1829319\":{r:1},\"1829320\":{r:1},\"1843988\":{r:1}},gkxData:{\"1652843\":{result:false,hash:\"AT6uh9NWRY4QEQoYxg0\"},\"5541\":{result:true,hash:\"AT70V-Q_zfEykznO8YE\"},\"1099893\":{result:false,hash:\"AT5kly2LSZV_DKGR9IU\"}}},hblp:{consistency:{rev:1006985430},rsrcMap:{zPYlTyl:{type:\"js\",src:\"https://static.xx.fbcdn.net/rsrc.php/v3/yO/r/_tJ17sGyxOX.js?_nc_x=Ij3Wp8lg5Kz\",nc:1},O7kNNP8:{type:\"js\",src:\"https://static.xx.fbcdn.net/rsrc.php/v3/yI/r/Ib90vcVxYzI.js?_nc_x=Ij3Wp8lg5Kz\",nc:1}},compMap:{TransportSelectingClientSingleton:{r:[\"jCCrZek\",\"Uqmh+wj\",\"2elujRy\",\"Yv2Rq7N\"],rds:{m:[\"ContextualConfig\",\"BladeRunnerClient\",\"DGWRequestStreamClient\",\"MqttLongPollingRunner\",\"BanzaiScuba_DEPRECATED\"],r:[\"9Zir1u8\",\"vz8Edsr\",\"UNkXFSY\",\"FNSYTIu\",\"f2c/BF4\",\"5p9Jgd9\",\"foz7nw7\",\"yPvyhva\",\"qJBkJlB\",\"34iux7+\"]},be:1},RequestStreamCommonRequestStreamCommonTypes:{r:[\"Uqmh+wj\"],be:1}}}},allResources:[\"zPYlTyl\",\"O7kNNP8\",\"vz8Edsr\",\"FNSYTIu\",\"f2c/BF4\",\"GpQFBwL\",\"qJBkJlB\",\"foz7nw7\",\"QbAnh9G\",\"UNkXFSY\",\"2elujRy\"]});}));</script></body></html>\n"
          ]
        }
      ],
      "source": [
        "import requests\n",
        "from bs4 import BeautifulSoup\n",
        "page = requests.get(\"http://www.facebook.com\")\n",
        "soup = BeautifulSoup(page.content, \"html.parser\")\n",
        "print(soup)"
      ]
    },
    {
      "cell_type": "code",
      "execution_count": null,
      "id": "74327fcd",
      "metadata": {
        "id": "74327fcd",
        "outputId": "0d1f2a0c-16a9-4ef6-e15b-8564d0f009bf"
      },
      "outputs": [
        {
          "data": {
            "text/plain": [
              "['This',\n",
              " 'is',\n",
              " 'a',\n",
              " 'cooool',\n",
              " '#dummysmiley',\n",
              " ':',\n",
              " ':-)',\n",
              " ':-P',\n",
              " '<3',\n",
              " 'and',\n",
              " 'some',\n",
              " 'arrows',\n",
              " '<',\n",
              " '>',\n",
              " '->',\n",
              " '<--']"
            ]
          },
          "execution_count": 29,
          "metadata": {},
          "output_type": "execute_result"
        }
      ],
      "source": [
        "from nltk.tokenize import TweetTokenizer\n",
        "tknzr = TweetTokenizer()\n",
        "s0 = \"This is a cooool #dummysmiley: :-) :-P <3 and some arrows < > -> <--\"\n",
        "tknzr.tokenize(s0)"
      ]
    },
    {
      "cell_type": "code",
      "execution_count": null,
      "id": "dde6e64d",
      "metadata": {
        "id": "dde6e64d"
      },
      "outputs": [],
      "source": [
        "from nltk.stem import PorterStemmer\n",
        "ps = PorterStemmer()\n",
        "sample_words = [\"marketing\", \"markets\", \"marketed\", \"marketer\"]\n",
        "print(\"sample_words\")\n",
        "for each in (sample_words)\n",
        "print(\"{s}->{s}\".format(each, ps.stem(each)))"
      ]
    },
    {
      "cell_type": "code",
      "execution_count": null,
      "id": "e380ee05",
      "metadata": {
        "id": "e380ee05",
        "outputId": "dc941445-4a1f-4bd5-9d29-15acd1685c3d"
      },
      "outputs": [
        {
          "name": "stdout",
          "output_type": "stream",
          "text": [
            "showing info https://raw.githubusercontent.com/nltk/nltk_data/gh-pages/index.xml\n"
          ]
        }
      ],
      "source": [
        "import nltk\n",
        "nltk.download()\n",
        "from nltk.stem import WordNetLemmatizer\n",
        "import nltk\n",
        "nltk.download('wordnet')\n",
        "wnl = WordNetLemmatizer()\n",
        "print(wnl.lemmatize(\"beaten\"))\n",
        "print(wnl.lemmatize(\"beaten\", \"v\"))\n",
        "print(wnl.lemmatize(\"women\", \"n\"))\n",
        "print(wnl.lemmatize(\"happiest\", \"a\"))"
      ]
    },
    {
      "cell_type": "code",
      "execution_count": null,
      "id": "fd416b9a",
      "metadata": {
        "id": "fd416b9a"
      },
      "outputs": [],
      "source": [
        "import nltk\n",
        "nltk.download('averaged_perceptron_tagger')\n",
        "nltk.download(\"tagsets\")\n",
        "from nltk.tokenize import TweetTokenizer\n",
        "tknzr = TweetTokenizer()\n",
        "s0 = \"This is a cooool #dummysmiley: :-) :-P <3 and some arrows < > -> <--\"\n",
        "tokens=tknzr.tokenize(s0)\n",
        "tagged = nltk.pos_tag(tokens)\n",
        "print(tagged)"
      ]
    },
    {
      "cell_type": "code",
      "execution_count": null,
      "id": "48bbcf07",
      "metadata": {
        "id": "48bbcf07"
      },
      "outputs": [],
      "source": [
        "import nltk.classify.util\n",
        "from nltk.classify import NaiveBayesClassifier\n",
        "from nltk.corpus import names\n",
        "nltk.download(\"names\")\n",
        "def gender_features(word):\n",
        "return {'last_letter': word[-1]}\n",
        "# Load data and training\n",
        "names = ([(name, 'male') for name in names.words('male.txt')] +\n",
        "[(name, 'female') for name in names.words('female.txt')])\n",
        "#we will be using the last letter of each name as a feature for training the model\n",
        "featuresets = [(gender_features(n), g) for (n, g) in names]\n",
        "train_set = featuresets\n",
        "classifier = nltk.NaiveBayesClassifier.train(train_set)\n",
        "print(names)\n",
        "print(\"Anny\")\n",
        "print(classifier.classify(gender_features('Anny')))"
      ]
    }
  ],
  "metadata": {
    "kernelspec": {
      "display_name": "Python 3 (ipykernel)",
      "language": "python",
      "name": "python3"
    },
    "language_info": {
      "codemirror_mode": {
        "name": "ipython",
        "version": 3
      },
      "file_extension": ".py",
      "mimetype": "text/x-python",
      "name": "python",
      "nbconvert_exporter": "python",
      "pygments_lexer": "ipython3",
      "version": "3.9.13"
    },
    "colab": {
      "provenance": [],
      "include_colab_link": true
    }
  },
  "nbformat": 4,
  "nbformat_minor": 5
}